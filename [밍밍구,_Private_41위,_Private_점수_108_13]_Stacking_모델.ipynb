{
  "nbformat": 4,
  "nbformat_minor": 0,
  "metadata": {
    "colab": {
      "name": "[밍밍구,  Private 41위, Private 점수: 108.13] Stacking 모델",
      "provenance": [],
      "collapsed_sections": [],
      "include_colab_link": true
    },
    "kernelspec": {
      "name": "python3",
      "display_name": "Python 3"
    },
    "language_info": {
      "name": "python"
    }
  },
  "cells": [
    {
      "cell_type": "markdown",
      "metadata": {
        "id": "view-in-github",
        "colab_type": "text"
      },
      "source": [
        "<a href=\"https://colab.research.google.com/github/menguri/Parking-Demand-Expecting/blob/main/%5B%EB%B0%8D%EB%B0%8D%EA%B5%AC%2C_Private_41%EC%9C%84%2C_Private_%EC%A0%90%EC%88%98_108_13%5D_Stacking_%EB%AA%A8%EB%8D%B8.ipynb\" target=\"_parent\"><img src=\"https://colab.research.google.com/assets/colab-badge.svg\" alt=\"Open In Colab\"/></a>"
      ]
    },
    {
      "cell_type": "markdown",
      "metadata": {
        "id": "zw38b_DaBzSp"
      },
      "source": [
        "# **주차수요 예측 AI**"
      ]
    },
    {
      "cell_type": "markdown",
      "metadata": {
        "id": "204_kg_9BzP5"
      },
      "source": [
        "**목차:**\n",
        "\n",
        "**I. 데이터 불러오기 및 확인**\n",
        "- 데이터 불러오기\n",
        "\n",
        "**II. EDA & FE**\n",
        "- Data Processing\n",
        "- concat\n",
        "- 타겟변수 확인\n",
        "- 결측치 확인 및 처리\n",
        "- 순서형과 명목형 데이터 분리\n",
        "- 파생 변수 생성\n",
        "- 수치형 변수 확인\n",
        "- 범주형 변수 확인\n",
        "- box-cox 변환\n",
        "- 중요 변수 확인\n",
        "\n",
        "**III. 모델링**\n",
        "- 단순선형 회귀 & 통계치확인\n",
        "- RobustScaler\n",
        "- KFold\n",
        "- 파라미터 튜닝 & GridSearchCV\n",
        "\n",
        "**IV. 예측**\n",
        "- 앙상블\n",
        "- voting\n",
        "- stacking\n",
        "- blending"
      ]
    },
    {
      "cell_type": "code",
      "source": [
        "# github 연동\n",
        "from google.colab import drive\n",
        "drive.mount('/content/drive')"
      ],
      "metadata": {
        "id": "KXze0n6XZeXw"
      },
      "execution_count": null,
      "outputs": []
    },
    {
      "cell_type": "code",
      "source": [
        "cd '/content/drive/MyDrive/Data Science/Colab Notebooks/주차수요 예측 AI (41 504)'"
      ],
      "metadata": {
        "id": "L3ckOEweZtCE"
      },
      "execution_count": null,
      "outputs": []
    },
    {
      "cell_type": "code",
      "source": [
        "!git clone https://github.com/menguri/Parking-Demand-Expecting.git\n",
        "!git init\n",
        "!git config --global user.email \"tatalintelli@gmail.com\"\n",
        "!git config --global user.name \"menguri\""
      ],
      "metadata": {
        "colab": {
          "base_uri": "https://localhost:8080/"
        },
        "id": "UjCI25k3eBgb",
        "outputId": "799b2295-8f00-4da8-b57e-c8f6d0c151e8"
      },
      "execution_count": null,
      "outputs": [
        {
          "output_type": "stream",
          "name": "stdout",
          "text": [
            "Cloning into 'Parking-Demand-Expecting'...\n",
            "remote: Enumerating objects: 6, done.\u001b[K\n",
            "remote: Counting objects: 100% (6/6), done.\u001b[K\n",
            "remote: Compressing objects: 100% (4/4), done.\u001b[K\n",
            "remote: Total 6 (delta 1), reused 0 (delta 0), pack-reused 0\u001b[K\n",
            "Unpacking objects: 100% (6/6), done.\n",
            "Initialized empty Git repository in /content/drive/My Drive/Data Science/Colab Notebooks/주차수요 예측 AI (41 504)/.git/\n"
          ]
        }
      ]
    },
    {
      "cell_type": "code",
      "source": [
        "!ls\n",
        "!git add .\n",
        "!git status"
      ],
      "metadata": {
        "colab": {
          "base_uri": "https://localhost:8080/"
        },
        "id": "rvOZ4HKTeKDb",
        "outputId": "11d17ec5-f714-4f4c-acff-5387301c815a"
      },
      "execution_count": null,
      "outputs": [
        {
          "output_type": "stream",
          "name": "stdout",
          "text": [
            " age_gender_info.csv\n",
            "'주차수요 예측 AI'\n",
            " Parking-Demand-Expecting\n",
            "'[밍밍구,  Private 41위, Private 점수: 108.13] Stacking 모델'\n",
            " README.md\n",
            " sample_submission.csv\n",
            " submission.csv\n",
            " test.csv\n",
            " train.csv\n",
            "On branch master\n",
            "Changes to be committed:\n",
            "  (use \"git reset HEAD <file>...\" to unstage)\n",
            "\n",
            "\t\u001b[32mmodified:   \"[\\341\\204\\206\\341\\205\\265\\341\\206\\274\\341\\204\\206\\341\\205\\265\\341\\206\\274\\341\\204\\200\\341\\205\\256,  Private 41\\341\\204\\213\\341\\205\\261, Private \\341\\204\\214\\341\\205\\245\\341\\206\\267\\341\\204\\211\\341\\205\\256: 108.13] Stacking \\341\\204\\206\\341\\205\\251\\341\\204\\203\\341\\205\\246\\341\\206\\257\"\u001b[m\n",
            "\n"
          ]
        }
      ]
    },
    {
      "cell_type": "markdown",
      "metadata": {
        "id": "x7gfUeiLCKOy"
      },
      "source": [
        "**I. 데이터 불러오기 및 확인**"
      ]
    },
    {
      "cell_type": "markdown",
      "metadata": {
        "id": "LKX6Bi7UCKG5"
      },
      "source": [
        "a. 데이터 불러오기"
      ]
    },
    {
      "cell_type": "code",
      "metadata": {
        "colab": {
          "base_uri": "https://localhost:8080/"
        },
        "id": "8Rcq9HSFBngH",
        "outputId": "6ef79da7-bae9-494e-a155-b19f4754b4f7"
      },
      "source": [
        "import pandas as pd\n",
        "import numpy as np\n",
        "import matplotlib.pyplot as plt\n",
        "import seaborn as sns\n",
        "%matplotlib inline\n",
        "from IPython.display import Image\n",
        "\n",
        "import warnings\n",
        "warnings.filterwarnings(\"ignore\", category=FutureWarning)\n",
        "warnings.filterwarnings(\"ignore\", category=DeprecationWarning)\n",
        "\n",
        "!sudo apt-get install -y fonts-nanum\n",
        "!sudo fc-cache -fv\n",
        "!rm ~/.cache/matplotlib -rf\n",
        "plt.rc('font', family='NanumBarunGothic') "
      ],
      "execution_count": null,
      "outputs": [
        {
          "output_type": "stream",
          "text": [
            "Drive already mounted at /content/drive; to attempt to forcibly remount, call drive.mount(\"/content/drive\", force_remount=True).\n",
            "Reading package lists... Done\n",
            "Building dependency tree       \n",
            "Reading state information... Done\n",
            "fonts-nanum is already the newest version (20170925-1).\n",
            "0 upgraded, 0 newly installed, 0 to remove and 40 not upgraded.\n",
            "/usr/share/fonts: caching, new cache contents: 0 fonts, 1 dirs\n",
            "/usr/share/fonts/truetype: caching, new cache contents: 0 fonts, 3 dirs\n",
            "/usr/share/fonts/truetype/humor-sans: caching, new cache contents: 1 fonts, 0 dirs\n",
            "/usr/share/fonts/truetype/liberation: caching, new cache contents: 16 fonts, 0 dirs\n",
            "/usr/share/fonts/truetype/nanum: caching, new cache contents: 10 fonts, 0 dirs\n",
            "/usr/local/share/fonts: caching, new cache contents: 0 fonts, 0 dirs\n",
            "/root/.local/share/fonts: skipping, no such directory\n",
            "/root/.fonts: skipping, no such directory\n",
            "/var/cache/fontconfig: cleaning cache directory\n",
            "/root/.cache/fontconfig: not cleaning non-existent cache directory\n",
            "/root/.fontconfig: not cleaning non-existent cache directory\n",
            "fc-cache: succeeded\n"
          ],
          "name": "stdout"
        }
      ]
    },
    {
      "cell_type": "code",
      "metadata": {
        "id": "DHeM1nKcCNKp"
      },
      "source": [
        "test = pd.read_csv('/content/drive/MyDrive/Colab Notebooks/주차수요 예측 AI/test.csv')\n",
        "train = pd.read_csv('/content/drive/MyDrive/Colab Notebooks/주차수요 예측 AI/train.csv')\n",
        "age_gender_info = pd.read_csv('/content/drive/MyDrive/Colab Notebooks/주차수요 예측 AI/age_gender_info.csv')"
      ],
      "execution_count": null,
      "outputs": []
    },
    {
      "cell_type": "code",
      "metadata": {
        "colab": {
          "base_uri": "https://localhost:8080/",
          "height": 306
        },
        "id": "VEbNj2c3CmCo",
        "outputId": "bb03fb2f-e9ca-4891-ee0c-1b633fbc00be"
      },
      "source": [
        "# 데이터 확인\n",
        "train.head()"
      ],
      "execution_count": null,
      "outputs": [
        {
          "output_type": "execute_result",
          "data": {
            "text/html": [
              "<div>\n",
              "<style scoped>\n",
              "    .dataframe tbody tr th:only-of-type {\n",
              "        vertical-align: middle;\n",
              "    }\n",
              "\n",
              "    .dataframe tbody tr th {\n",
              "        vertical-align: top;\n",
              "    }\n",
              "\n",
              "    .dataframe thead th {\n",
              "        text-align: right;\n",
              "    }\n",
              "</style>\n",
              "<table border=\"1\" class=\"dataframe\">\n",
              "  <thead>\n",
              "    <tr style=\"text-align: right;\">\n",
              "      <th></th>\n",
              "      <th>단지코드</th>\n",
              "      <th>총세대수</th>\n",
              "      <th>임대건물구분</th>\n",
              "      <th>지역</th>\n",
              "      <th>공급유형</th>\n",
              "      <th>전용면적</th>\n",
              "      <th>전용면적별세대수</th>\n",
              "      <th>공가수</th>\n",
              "      <th>자격유형</th>\n",
              "      <th>임대보증금</th>\n",
              "      <th>임대료</th>\n",
              "      <th>도보 10분거리 내 지하철역 수(환승노선 수 반영)</th>\n",
              "      <th>도보 10분거리 내 버스정류장 수</th>\n",
              "      <th>단지내주차면수</th>\n",
              "      <th>등록차량수</th>\n",
              "    </tr>\n",
              "  </thead>\n",
              "  <tbody>\n",
              "    <tr>\n",
              "      <th>0</th>\n",
              "      <td>C2483</td>\n",
              "      <td>900</td>\n",
              "      <td>아파트</td>\n",
              "      <td>경상북도</td>\n",
              "      <td>국민임대</td>\n",
              "      <td>39.72</td>\n",
              "      <td>134</td>\n",
              "      <td>38.0</td>\n",
              "      <td>A</td>\n",
              "      <td>15667000</td>\n",
              "      <td>103680</td>\n",
              "      <td>0.0</td>\n",
              "      <td>3.0</td>\n",
              "      <td>1425.0</td>\n",
              "      <td>1015.0</td>\n",
              "    </tr>\n",
              "    <tr>\n",
              "      <th>1</th>\n",
              "      <td>C2483</td>\n",
              "      <td>900</td>\n",
              "      <td>아파트</td>\n",
              "      <td>경상북도</td>\n",
              "      <td>국민임대</td>\n",
              "      <td>39.72</td>\n",
              "      <td>15</td>\n",
              "      <td>38.0</td>\n",
              "      <td>A</td>\n",
              "      <td>15667000</td>\n",
              "      <td>103680</td>\n",
              "      <td>0.0</td>\n",
              "      <td>3.0</td>\n",
              "      <td>1425.0</td>\n",
              "      <td>1015.0</td>\n",
              "    </tr>\n",
              "    <tr>\n",
              "      <th>2</th>\n",
              "      <td>C2483</td>\n",
              "      <td>900</td>\n",
              "      <td>아파트</td>\n",
              "      <td>경상북도</td>\n",
              "      <td>국민임대</td>\n",
              "      <td>51.93</td>\n",
              "      <td>385</td>\n",
              "      <td>38.0</td>\n",
              "      <td>A</td>\n",
              "      <td>27304000</td>\n",
              "      <td>184330</td>\n",
              "      <td>0.0</td>\n",
              "      <td>3.0</td>\n",
              "      <td>1425.0</td>\n",
              "      <td>1015.0</td>\n",
              "    </tr>\n",
              "    <tr>\n",
              "      <th>3</th>\n",
              "      <td>C2483</td>\n",
              "      <td>900</td>\n",
              "      <td>아파트</td>\n",
              "      <td>경상북도</td>\n",
              "      <td>국민임대</td>\n",
              "      <td>51.93</td>\n",
              "      <td>15</td>\n",
              "      <td>38.0</td>\n",
              "      <td>A</td>\n",
              "      <td>27304000</td>\n",
              "      <td>184330</td>\n",
              "      <td>0.0</td>\n",
              "      <td>3.0</td>\n",
              "      <td>1425.0</td>\n",
              "      <td>1015.0</td>\n",
              "    </tr>\n",
              "    <tr>\n",
              "      <th>4</th>\n",
              "      <td>C2483</td>\n",
              "      <td>900</td>\n",
              "      <td>아파트</td>\n",
              "      <td>경상북도</td>\n",
              "      <td>국민임대</td>\n",
              "      <td>51.93</td>\n",
              "      <td>41</td>\n",
              "      <td>38.0</td>\n",
              "      <td>A</td>\n",
              "      <td>27304000</td>\n",
              "      <td>184330</td>\n",
              "      <td>0.0</td>\n",
              "      <td>3.0</td>\n",
              "      <td>1425.0</td>\n",
              "      <td>1015.0</td>\n",
              "    </tr>\n",
              "  </tbody>\n",
              "</table>\n",
              "</div>"
            ],
            "text/plain": [
              "    단지코드  총세대수 임대건물구분  ... 도보 10분거리 내 버스정류장 수 단지내주차면수   등록차량수\n",
              "0  C2483   900    아파트  ...                3.0  1425.0  1015.0\n",
              "1  C2483   900    아파트  ...                3.0  1425.0  1015.0\n",
              "2  C2483   900    아파트  ...                3.0  1425.0  1015.0\n",
              "3  C2483   900    아파트  ...                3.0  1425.0  1015.0\n",
              "4  C2483   900    아파트  ...                3.0  1425.0  1015.0\n",
              "\n",
              "[5 rows x 15 columns]"
            ]
          },
          "metadata": {
            "tags": []
          },
          "execution_count": 3
        }
      ]
    },
    {
      "cell_type": "code",
      "metadata": {
        "colab": {
          "base_uri": "https://localhost:8080/"
        },
        "id": "pO9wKMgNCpNx",
        "outputId": "7d116eae-3101-4c36-a4e0-13e6f455133a"
      },
      "source": [
        "# 임대보증금, 임대료, 지하철역 수, 버스정류장 수 등에서 결측치 존재\n",
        "train.info()"
      ],
      "execution_count": null,
      "outputs": [
        {
          "output_type": "stream",
          "text": [
            "<class 'pandas.core.frame.DataFrame'>\n",
            "RangeIndex: 2952 entries, 0 to 2951\n",
            "Data columns (total 15 columns):\n",
            " #   Column                        Non-Null Count  Dtype  \n",
            "---  ------                        --------------  -----  \n",
            " 0   단지코드                          2952 non-null   object \n",
            " 1   총세대수                          2952 non-null   int64  \n",
            " 2   임대건물구분                        2952 non-null   object \n",
            " 3   지역                            2952 non-null   object \n",
            " 4   공급유형                          2952 non-null   object \n",
            " 5   전용면적                          2952 non-null   float64\n",
            " 6   전용면적별세대수                      2952 non-null   int64  \n",
            " 7   공가수                           2952 non-null   float64\n",
            " 8   자격유형                          2952 non-null   object \n",
            " 9   임대보증금                         2383 non-null   object \n",
            " 10  임대료                           2383 non-null   object \n",
            " 11  도보 10분거리 내 지하철역 수(환승노선 수 반영)  2741 non-null   float64\n",
            " 12  도보 10분거리 내 버스정류장 수            2948 non-null   float64\n",
            " 13  단지내주차면수                       2952 non-null   float64\n",
            " 14  등록차량수                         2952 non-null   float64\n",
            "dtypes: float64(6), int64(2), object(7)\n",
            "memory usage: 346.1+ KB\n"
          ],
          "name": "stdout"
        }
      ]
    },
    {
      "cell_type": "code",
      "metadata": {
        "colab": {
          "base_uri": "https://localhost:8080/",
          "height": 948
        },
        "id": "RbxSKv19dCg6",
        "outputId": "fd14cdcb-bf3f-4d60-899c-6097fec5be97"
      },
      "source": [
        "# 추가 데이터 합치기\n",
        "# 해당 지역 30/40/50 대 비율도 표에 포함시키기. -> train, test 셋 모두.\n",
        "\n",
        "age_gender_info['해당 지역 30대 비율'] = age_gender_info['30대(남자)'] + age_gender_info['30대(여자)']\n",
        "age_gender_info['해당 지역 40대 비율'] = age_gender_info['40대(남자)'] + age_gender_info['40대(여자)']\n",
        "age_gender_info['해당 지역 50대 비율'] = age_gender_info['50대(남자)'] + age_gender_info['50대(여자)']\n",
        "\n",
        "print(age_gender_info[age_gender_info['지역'] == '경상북도']['해당 지역 30대 비율'])\n",
        "\n",
        "age = age_gender_info[['지역','해당 지역 30대 비율','해당 지역 40대 비율','해당 지역 50대 비율']]\n",
        "print(age)\n",
        "train = pd.merge(train, age)\n",
        "test = pd.merge(test, age)\n",
        "test"
      ],
      "execution_count": null,
      "outputs": [
        {
          "output_type": "stream",
          "text": [
            "0    0.103005\n",
            "Name: 해당 지역 30대 비율, dtype: float64\n",
            "         지역  해당 지역 30대 비율  해당 지역 40대 비율  해당 지역 50대 비율\n",
            "0      경상북도      0.103005      0.156273      0.159295\n",
            "1      경상남도      0.113964      0.144691      0.159442\n",
            "2     대전광역시      0.135501      0.142592      0.154570\n",
            "3       경기도      0.141036      0.161562      0.142203\n",
            "4      전라북도      0.098623      0.143650      0.155790\n",
            "5       강원도      0.114142      0.144203      0.159443\n",
            "6     광주광역시      0.131304      0.159212      0.147345\n",
            "7      충청남도      0.132398      0.152278      0.148467\n",
            "8     부산광역시      0.095915      0.122722      0.151754\n",
            "9   제주특별자치도      0.098834      0.153078      0.157333\n",
            "10    울산광역시      0.105241      0.140767      0.152554\n",
            "11     충청북도      0.117694      0.154967      0.157023\n",
            "12     전라남도      0.111448      0.154082      0.157760\n",
            "13    대구광역시      0.133032      0.138067      0.165291\n",
            "14    서울특별시      0.099532      0.122889      0.141963\n",
            "15  세종특별자치시      0.210567      0.150086      0.123696\n"
          ],
          "name": "stdout"
        },
        {
          "output_type": "execute_result",
          "data": {
            "text/html": [
              "<div>\n",
              "<style scoped>\n",
              "    .dataframe tbody tr th:only-of-type {\n",
              "        vertical-align: middle;\n",
              "    }\n",
              "\n",
              "    .dataframe tbody tr th {\n",
              "        vertical-align: top;\n",
              "    }\n",
              "\n",
              "    .dataframe thead th {\n",
              "        text-align: right;\n",
              "    }\n",
              "</style>\n",
              "<table border=\"1\" class=\"dataframe\">\n",
              "  <thead>\n",
              "    <tr style=\"text-align: right;\">\n",
              "      <th></th>\n",
              "      <th>단지코드</th>\n",
              "      <th>총세대수</th>\n",
              "      <th>임대건물구분</th>\n",
              "      <th>지역</th>\n",
              "      <th>공급유형</th>\n",
              "      <th>전용면적</th>\n",
              "      <th>전용면적별세대수</th>\n",
              "      <th>공가수</th>\n",
              "      <th>자격유형</th>\n",
              "      <th>임대보증금</th>\n",
              "      <th>임대료</th>\n",
              "      <th>도보 10분거리 내 지하철역 수(환승노선 수 반영)</th>\n",
              "      <th>도보 10분거리 내 버스정류장 수</th>\n",
              "      <th>단지내주차면수</th>\n",
              "      <th>해당 지역 30대 비율</th>\n",
              "      <th>해당 지역 40대 비율</th>\n",
              "      <th>해당 지역 50대 비율</th>\n",
              "    </tr>\n",
              "  </thead>\n",
              "  <tbody>\n",
              "    <tr>\n",
              "      <th>0</th>\n",
              "      <td>C1072</td>\n",
              "      <td>754</td>\n",
              "      <td>아파트</td>\n",
              "      <td>경기도</td>\n",
              "      <td>국민임대</td>\n",
              "      <td>39.79</td>\n",
              "      <td>116</td>\n",
              "      <td>14.0</td>\n",
              "      <td>H</td>\n",
              "      <td>22830000</td>\n",
              "      <td>189840</td>\n",
              "      <td>0.0</td>\n",
              "      <td>2.0</td>\n",
              "      <td>683.0</td>\n",
              "      <td>0.141036</td>\n",
              "      <td>0.161562</td>\n",
              "      <td>0.142203</td>\n",
              "    </tr>\n",
              "    <tr>\n",
              "      <th>1</th>\n",
              "      <td>C1072</td>\n",
              "      <td>754</td>\n",
              "      <td>아파트</td>\n",
              "      <td>경기도</td>\n",
              "      <td>국민임대</td>\n",
              "      <td>46.81</td>\n",
              "      <td>30</td>\n",
              "      <td>14.0</td>\n",
              "      <td>A</td>\n",
              "      <td>36048000</td>\n",
              "      <td>249930</td>\n",
              "      <td>0.0</td>\n",
              "      <td>2.0</td>\n",
              "      <td>683.0</td>\n",
              "      <td>0.141036</td>\n",
              "      <td>0.161562</td>\n",
              "      <td>0.142203</td>\n",
              "    </tr>\n",
              "    <tr>\n",
              "      <th>2</th>\n",
              "      <td>C1072</td>\n",
              "      <td>754</td>\n",
              "      <td>아파트</td>\n",
              "      <td>경기도</td>\n",
              "      <td>국민임대</td>\n",
              "      <td>46.90</td>\n",
              "      <td>112</td>\n",
              "      <td>14.0</td>\n",
              "      <td>H</td>\n",
              "      <td>36048000</td>\n",
              "      <td>249930</td>\n",
              "      <td>0.0</td>\n",
              "      <td>2.0</td>\n",
              "      <td>683.0</td>\n",
              "      <td>0.141036</td>\n",
              "      <td>0.161562</td>\n",
              "      <td>0.142203</td>\n",
              "    </tr>\n",
              "    <tr>\n",
              "      <th>3</th>\n",
              "      <td>C1072</td>\n",
              "      <td>754</td>\n",
              "      <td>아파트</td>\n",
              "      <td>경기도</td>\n",
              "      <td>국민임대</td>\n",
              "      <td>46.90</td>\n",
              "      <td>120</td>\n",
              "      <td>14.0</td>\n",
              "      <td>H</td>\n",
              "      <td>36048000</td>\n",
              "      <td>249930</td>\n",
              "      <td>0.0</td>\n",
              "      <td>2.0</td>\n",
              "      <td>683.0</td>\n",
              "      <td>0.141036</td>\n",
              "      <td>0.161562</td>\n",
              "      <td>0.142203</td>\n",
              "    </tr>\n",
              "    <tr>\n",
              "      <th>4</th>\n",
              "      <td>C1072</td>\n",
              "      <td>754</td>\n",
              "      <td>아파트</td>\n",
              "      <td>경기도</td>\n",
              "      <td>국민임대</td>\n",
              "      <td>51.46</td>\n",
              "      <td>60</td>\n",
              "      <td>14.0</td>\n",
              "      <td>H</td>\n",
              "      <td>43497000</td>\n",
              "      <td>296780</td>\n",
              "      <td>0.0</td>\n",
              "      <td>2.0</td>\n",
              "      <td>683.0</td>\n",
              "      <td>0.141036</td>\n",
              "      <td>0.161562</td>\n",
              "      <td>0.142203</td>\n",
              "    </tr>\n",
              "    <tr>\n",
              "      <th>...</th>\n",
              "      <td>...</td>\n",
              "      <td>...</td>\n",
              "      <td>...</td>\n",
              "      <td>...</td>\n",
              "      <td>...</td>\n",
              "      <td>...</td>\n",
              "      <td>...</td>\n",
              "      <td>...</td>\n",
              "      <td>...</td>\n",
              "      <td>...</td>\n",
              "      <td>...</td>\n",
              "      <td>...</td>\n",
              "      <td>...</td>\n",
              "      <td>...</td>\n",
              "      <td>...</td>\n",
              "      <td>...</td>\n",
              "      <td>...</td>\n",
              "    </tr>\n",
              "    <tr>\n",
              "      <th>1017</th>\n",
              "      <td>C1229</td>\n",
              "      <td>453</td>\n",
              "      <td>아파트</td>\n",
              "      <td>세종특별자치시</td>\n",
              "      <td>행복주택</td>\n",
              "      <td>38.20</td>\n",
              "      <td>68</td>\n",
              "      <td>23.0</td>\n",
              "      <td>J</td>\n",
              "      <td>30101000</td>\n",
              "      <td>120400</td>\n",
              "      <td>0.0</td>\n",
              "      <td>2.0</td>\n",
              "      <td>317.0</td>\n",
              "      <td>0.210567</td>\n",
              "      <td>0.150086</td>\n",
              "      <td>0.123696</td>\n",
              "    </tr>\n",
              "    <tr>\n",
              "      <th>1018</th>\n",
              "      <td>C1229</td>\n",
              "      <td>453</td>\n",
              "      <td>아파트</td>\n",
              "      <td>세종특별자치시</td>\n",
              "      <td>행복주택</td>\n",
              "      <td>38.20</td>\n",
              "      <td>8</td>\n",
              "      <td>23.0</td>\n",
              "      <td>J</td>\n",
              "      <td>30101000</td>\n",
              "      <td>120400</td>\n",
              "      <td>0.0</td>\n",
              "      <td>2.0</td>\n",
              "      <td>317.0</td>\n",
              "      <td>0.210567</td>\n",
              "      <td>0.150086</td>\n",
              "      <td>0.123696</td>\n",
              "    </tr>\n",
              "    <tr>\n",
              "      <th>1019</th>\n",
              "      <td>C1229</td>\n",
              "      <td>453</td>\n",
              "      <td>아파트</td>\n",
              "      <td>세종특별자치시</td>\n",
              "      <td>행복주택</td>\n",
              "      <td>38.25</td>\n",
              "      <td>3</td>\n",
              "      <td>23.0</td>\n",
              "      <td>J</td>\n",
              "      <td>30101000</td>\n",
              "      <td>120400</td>\n",
              "      <td>0.0</td>\n",
              "      <td>2.0</td>\n",
              "      <td>317.0</td>\n",
              "      <td>0.210567</td>\n",
              "      <td>0.150086</td>\n",
              "      <td>0.123696</td>\n",
              "    </tr>\n",
              "    <tr>\n",
              "      <th>1020</th>\n",
              "      <td>C1229</td>\n",
              "      <td>453</td>\n",
              "      <td>아파트</td>\n",
              "      <td>세종특별자치시</td>\n",
              "      <td>행복주택</td>\n",
              "      <td>38.28</td>\n",
              "      <td>4</td>\n",
              "      <td>23.0</td>\n",
              "      <td>J</td>\n",
              "      <td>30101000</td>\n",
              "      <td>120400</td>\n",
              "      <td>0.0</td>\n",
              "      <td>2.0</td>\n",
              "      <td>317.0</td>\n",
              "      <td>0.210567</td>\n",
              "      <td>0.150086</td>\n",
              "      <td>0.123696</td>\n",
              "    </tr>\n",
              "    <tr>\n",
              "      <th>1021</th>\n",
              "      <td>C1229</td>\n",
              "      <td>453</td>\n",
              "      <td>아파트</td>\n",
              "      <td>세종특별자치시</td>\n",
              "      <td>행복주택</td>\n",
              "      <td>44.02</td>\n",
              "      <td>30</td>\n",
              "      <td>23.0</td>\n",
              "      <td>J</td>\n",
              "      <td>33983000</td>\n",
              "      <td>135930</td>\n",
              "      <td>0.0</td>\n",
              "      <td>2.0</td>\n",
              "      <td>317.0</td>\n",
              "      <td>0.210567</td>\n",
              "      <td>0.150086</td>\n",
              "      <td>0.123696</td>\n",
              "    </tr>\n",
              "  </tbody>\n",
              "</table>\n",
              "<p>1022 rows × 17 columns</p>\n",
              "</div>"
            ],
            "text/plain": [
              "       단지코드  총세대수 임대건물구분  ... 해당 지역 30대 비율 해당 지역 40대 비율  해당 지역 50대 비율\n",
              "0     C1072   754    아파트  ...     0.141036     0.161562      0.142203\n",
              "1     C1072   754    아파트  ...     0.141036     0.161562      0.142203\n",
              "2     C1072   754    아파트  ...     0.141036     0.161562      0.142203\n",
              "3     C1072   754    아파트  ...     0.141036     0.161562      0.142203\n",
              "4     C1072   754    아파트  ...     0.141036     0.161562      0.142203\n",
              "...     ...   ...    ...  ...          ...          ...           ...\n",
              "1017  C1229   453    아파트  ...     0.210567     0.150086      0.123696\n",
              "1018  C1229   453    아파트  ...     0.210567     0.150086      0.123696\n",
              "1019  C1229   453    아파트  ...     0.210567     0.150086      0.123696\n",
              "1020  C1229   453    아파트  ...     0.210567     0.150086      0.123696\n",
              "1021  C1229   453    아파트  ...     0.210567     0.150086      0.123696\n",
              "\n",
              "[1022 rows x 17 columns]"
            ]
          },
          "metadata": {
            "tags": []
          },
          "execution_count": 5
        }
      ]
    },
    {
      "cell_type": "markdown",
      "metadata": {
        "id": "uaPzLL8QC_u4"
      },
      "source": [
        "**II. EDA & FE**"
      ]
    },
    {
      "cell_type": "markdown",
      "metadata": {
        "id": "LFbfrbB3DCwJ"
      },
      "source": [
        "a.Data Processing"
      ]
    },
    {
      "cell_type": "code",
      "metadata": {
        "colab": {
          "base_uri": "https://localhost:8080/",
          "height": 297
        },
        "id": "bE6t96oTDCR5",
        "outputId": "1dfa4b27-773e-4316-d466-5ccaee0e04a4"
      },
      "source": [
        "fig, axs = plt.subplots(figsize = (12,4))\n",
        "sns.boxplot(x = train['지역'],y = train['등록차량수'])"
      ],
      "execution_count": null,
      "outputs": [
        {
          "output_type": "execute_result",
          "data": {
            "text/plain": [
              "<matplotlib.axes._subplots.AxesSubplot at 0x7fa76f293f10>"
            ]
          },
          "metadata": {
            "tags": []
          },
          "execution_count": 6
        },
        {
          "output_type": "display_data",
          "data": {
            "image/png": "[encoded data removed]",
            "text/plain": [
              "<Figure size 864x288 with 1 Axes>"
            ]
          },
          "metadata": {
            "tags": [],
            "needs_background": "light"
          }
        }
      ]
    },
    {
      "cell_type": "code",
      "metadata": {
        "colab": {
          "base_uri": "https://localhost:8080/",
          "height": 297
        },
        "id": "JufOY3LiUwJj",
        "outputId": "5c533008-ae27-4b98-a78d-769da09cde4f"
      },
      "source": [
        "fig, axs = plt.subplots(figsize = (12,4))\n",
        "sns.boxplot(x = train['자격유형'],y = train['등록차량수'])"
      ],
      "execution_count": null,
      "outputs": [
        {
          "output_type": "execute_result",
          "data": {
            "text/plain": [
              "<matplotlib.axes._subplots.AxesSubplot at 0x7fa76ed675d0>"
            ]
          },
          "metadata": {
            "tags": []
          },
          "execution_count": 7
        },
        {
          "output_type": "display_data",
          "data": {
            "image/png": "[encoded data removed]",
            "text/plain": [
              "<Figure size 864x288 with 1 Axes>"
            ]
          },
          "metadata": {
            "tags": [],
            "needs_background": "light"
          }
        }
      ]
    },
    {
      "cell_type": "code",
      "metadata": {
        "colab": {
          "base_uri": "https://localhost:8080/",
          "height": 297
        },
        "id": "dnTJfchA1D4s",
        "outputId": "d4e35bcf-88a5-43ef-ce7d-efd5b8ef07fa"
      },
      "source": [
        "fig, axs = plt.subplots(figsize = (12,4))\n",
        "sns.boxplot(x = train['공급유형'],y = train['등록차량수'])"
      ],
      "execution_count": null,
      "outputs": [
        {
          "output_type": "execute_result",
          "data": {
            "text/plain": [
              "<matplotlib.axes._subplots.AxesSubplot at 0x7fa76ed720d0>"
            ]
          },
          "metadata": {
            "tags": []
          },
          "execution_count": 8
        },
        {
          "output_type": "display_data",
          "data": {
            "image/png": "[encoded data removed]",
            "text/plain": [
              "<Figure size 864x288 with 1 Axes>"
            ]
          },
          "metadata": {
            "tags": [],
            "needs_background": "light"
          }
        }
      ]
    },
    {
      "cell_type": "code",
      "metadata": {
        "colab": {
          "base_uri": "https://localhost:8080/",
          "height": 283
        },
        "id": "I0vUtGZDCs3Q",
        "outputId": "080a4401-9aff-4dcd-a3c6-ef17f0c35006"
      },
      "source": [
        "fig, ax = plt.subplots()\n",
        "ax.scatter(x = train['단지내주차면수'], y = train['등록차량수'])\n",
        "plt.ylabel('등록차량수', fontsize=13)\n",
        "plt.xlabel('단지내주차면수', fontsize=13)\n",
        "plt.show()"
      ],
      "execution_count": null,
      "outputs": [
        {
          "output_type": "display_data",
          "data": {
            "image/png": "[encoded data removed]",
            "text/plain": [
              "<Figure size 432x288 with 1 Axes>"
            ]
          },
          "metadata": {
            "tags": [],
            "needs_background": "light"
          }
        }
      ]
    },
    {
      "cell_type": "code",
      "metadata": {
        "colab": {
          "base_uri": "https://localhost:8080/",
          "height": 283
        },
        "id": "sfR-KVgPHMN-",
        "outputId": "7c5aaee8-ee1c-497f-ce2c-ff3c8b2da002"
      },
      "source": [
        "fig, ax = plt.subplots()\n",
        "ax.scatter(x = train['총세대수'], y = train['등록차량수'])\n",
        "plt.ylabel('총세대수', fontsize=13)\n",
        "plt.xlabel('단지내주차면수', fontsize=13)\n",
        "plt.show()"
      ],
      "execution_count": null,
      "outputs": [
        {
          "output_type": "display_data",
          "data": {
            "image/png": "[encoded data removed]",
            "text/plain": [
              "<Figure size 432x288 with 1 Axes>"
            ]
          },
          "metadata": {
            "tags": [],
            "needs_background": "light"
          }
        }
      ]
    },
    {
      "cell_type": "code",
      "metadata": {
        "colab": {
          "base_uri": "https://localhost:8080/"
        },
        "id": "7zCfkWY6G6PX",
        "outputId": "3a8eba74-7392-4df5-8e64-03af8e8890c4"
      },
      "source": [
        "cor = train.corr()\n",
        "cor_fe = cor.index[abs(cor['등록차량수']) >= 0.2]\n",
        "cor_fe"
      ],
      "execution_count": null,
      "outputs": [
        {
          "output_type": "execute_result",
          "data": {
            "text/plain": [
              "Index(['총세대수', '전용면적별세대수', '단지내주차면수', '등록차량수', '해당 지역 30대 비율', '해당 지역 40대 비율',\n",
              "       '해당 지역 50대 비율'],\n",
              "      dtype='object')"
            ]
          },
          "metadata": {
            "tags": []
          },
          "execution_count": 11
        }
      ]
    },
    {
      "cell_type": "code",
      "metadata": {
        "colab": {
          "base_uri": "https://localhost:8080/",
          "height": 685
        },
        "id": "PdOhyglqHF9W",
        "outputId": "97f4981f-fc6a-447a-fb5b-a8e52806d68f"
      },
      "source": [
        "plt.figure(figsize=(15,10))\n",
        "sns.heatmap(train[cor_fe].corr(),annot=True)"
      ],
      "execution_count": null,
      "outputs": [
        {
          "output_type": "stream",
          "text": [
            "/usr/local/lib/python3.7/dist-packages/matplotlib/backends/backend_agg.py:214: RuntimeWarning: Glyph 8722 missing from current font.\n",
            "  font.set_text(s, 0.0, flags=flags)\n",
            "/usr/local/lib/python3.7/dist-packages/matplotlib/backends/backend_agg.py:183: RuntimeWarning: Glyph 8722 missing from current font.\n",
            "  font.set_text(s, 0, flags=flags)\n"
          ],
          "name": "stderr"
        },
        {
          "output_type": "execute_result",
          "data": {
            "text/plain": [
              "<matplotlib.axes._subplots.AxesSubplot at 0x7fa76e5b6710>"
            ]
          },
          "metadata": {
            "tags": []
          },
          "execution_count": 12
        },
        {
          "output_type": "display_data",
          "data": {
            "image/png": "[encoded data removed]",
            "text/plain": [
              "<Figure size 1080x720 with 2 Axes>"
            ]
          },
          "metadata": {
            "tags": [],
            "needs_background": "light"
          }
        }
      ]
    },
    {
      "cell_type": "markdown",
      "metadata": {
        "id": "BEG4G-n2H5_w"
      },
      "source": [
        "b.concat"
      ]
    },
    {
      "cell_type": "code",
      "metadata": {
        "colab": {
          "base_uri": "https://localhost:8080/"
        },
        "id": "afex_FvgH9fO",
        "outputId": "3bb8d45a-6f5d-44ab-cd99-0224c0d66cf8"
      },
      "source": [
        "\n",
        "# test의 list 뽑기\n",
        "t_name = list(test)\n",
        "# train에 test list만 남기고 버리기\n",
        "df_train = train[t_name]\n",
        "# 합치기 -> 등록차량수 자연스럽게 없어진다.\n",
        "df = pd.concat((df_train,test))\n",
        "\n",
        "print(train.shape, test.shape, df.shape)"
      ],
      "execution_count": null,
      "outputs": [
        {
          "output_type": "stream",
          "text": [
            "(2952, 18) (1022, 17) (3974, 17)\n"
          ],
          "name": "stdout"
        }
      ]
    },
    {
      "cell_type": "code",
      "metadata": {
        "colab": {
          "base_uri": "https://localhost:8080/"
        },
        "id": "3x34reT_WBUa",
        "outputId": "03f459ef-4697-435c-f7d9-b72e1171e930"
      },
      "source": [
        "df.info()"
      ],
      "execution_count": null,
      "outputs": [
        {
          "output_type": "stream",
          "text": [
            "<class 'pandas.core.frame.DataFrame'>\n",
            "Int64Index: 3974 entries, 0 to 1021\n",
            "Data columns (total 17 columns):\n",
            " #   Column                        Non-Null Count  Dtype  \n",
            "---  ------                        --------------  -----  \n",
            " 0   단지코드                          3974 non-null   object \n",
            " 1   총세대수                          3974 non-null   int64  \n",
            " 2   임대건물구분                        3974 non-null   object \n",
            " 3   지역                            3974 non-null   object \n",
            " 4   공급유형                          3974 non-null   object \n",
            " 5   전용면적                          3974 non-null   float64\n",
            " 6   전용면적별세대수                      3974 non-null   int64  \n",
            " 7   공가수                           3974 non-null   float64\n",
            " 8   자격유형                          3972 non-null   object \n",
            " 9   임대보증금                         3225 non-null   object \n",
            " 10  임대료                           3225 non-null   object \n",
            " 11  도보 10분거리 내 지하철역 수(환승노선 수 반영)  3721 non-null   float64\n",
            " 12  도보 10분거리 내 버스정류장 수            3970 non-null   float64\n",
            " 13  단지내주차면수                       3974 non-null   float64\n",
            " 14  해당 지역 30대 비율                  3974 non-null   float64\n",
            " 15  해당 지역 40대 비율                  3974 non-null   float64\n",
            " 16  해당 지역 50대 비율                  3974 non-null   float64\n",
            "dtypes: float64(8), int64(2), object(7)\n",
            "memory usage: 558.8+ KB\n"
          ],
          "name": "stdout"
        }
      ]
    },
    {
      "cell_type": "markdown",
      "metadata": {
        "id": "Nt0HJHJcJQyH"
      },
      "source": [
        "c.타겟변수 확인"
      ]
    },
    {
      "cell_type": "code",
      "metadata": {
        "id": "b_BDx_9qJTD0"
      },
      "source": [
        "from scipy import stats\n",
        "from scipy.stats import norm"
      ],
      "execution_count": null,
      "outputs": []
    },
    {
      "cell_type": "code",
      "metadata": {
        "colab": {
          "base_uri": "https://localhost:8080/",
          "height": 297
        },
        "id": "-MQGFxiuH5h_",
        "outputId": "028c987c-066c-4d42-cfce-defcfd5afc2f"
      },
      "source": [
        "sns.distplot(train['등록차량수'],fit = norm)"
      ],
      "execution_count": null,
      "outputs": [
        {
          "output_type": "execute_result",
          "data": {
            "text/plain": [
              "<matplotlib.axes._subplots.AxesSubplot at 0x7fa766399f90>"
            ]
          },
          "metadata": {
            "tags": []
          },
          "execution_count": 16
        },
        {
          "output_type": "display_data",
          "data": {
            "image/png": "[encoded data removed]",
            "text/plain": [
              "<Figure size 432x288 with 1 Axes>"
            ]
          },
          "metadata": {
            "tags": [],
            "needs_background": "light"
          }
        }
      ]
    },
    {
      "cell_type": "code",
      "metadata": {
        "colab": {
          "base_uri": "https://localhost:8080/",
          "height": 420
        },
        "id": "c3cIeTHYHs4P",
        "outputId": "1ab04f62-b5db-4c6c-dbce-e8cc0a83d800"
      },
      "source": [
        "stats.probplot(train['등록차량수'], plot=plt)"
      ],
      "execution_count": null,
      "outputs": [
        {
          "output_type": "execute_result",
          "data": {
            "text/plain": [
              "((array([-3.49754767, -3.25354064, -3.11858985, ...,  3.11858985,\n",
              "          3.25354064,  3.49754767]),\n",
              "  array([  13.,   13.,   13., ..., 2550., 2550., 2550.])),\n",
              " (407.94178524924445, 559.7682926829267, 0.9404675429966578))"
            ]
          },
          "metadata": {
            "tags": []
          },
          "execution_count": 17
        },
        {
          "output_type": "stream",
          "text": [
            "/usr/local/lib/python3.7/dist-packages/matplotlib/backends/backend_agg.py:214: RuntimeWarning: Glyph 8722 missing from current font.\n",
            "  font.set_text(s, 0.0, flags=flags)\n",
            "/usr/local/lib/python3.7/dist-packages/matplotlib/backends/backend_agg.py:183: RuntimeWarning: Glyph 8722 missing from current font.\n",
            "  font.set_text(s, 0, flags=flags)\n"
          ],
          "name": "stderr"
        },
        {
          "output_type": "display_data",
          "data": {
            "image/png": "[encoded data removed]",
            "text/plain": [
              "<Figure size 432x288 with 1 Axes>"
            ]
          },
          "metadata": {
            "tags": [],
            "needs_background": "light"
          }
        }
      ]
    },
    {
      "cell_type": "code",
      "metadata": {
        "colab": {
          "base_uri": "https://localhost:8080/",
          "height": 297
        },
        "id": "s7xEJajYJjUu",
        "outputId": "5af00e44-aab3-4e8b-b015-e32438744daa"
      },
      "source": [
        "# 등록차량수 target 값의 정규성 확보\n",
        "train['등록차량수'] = np.log1p(train[\"등록차량수\"])\n",
        "sns.distplot(train['등록차량수'],fit=norm)"
      ],
      "execution_count": null,
      "outputs": [
        {
          "output_type": "execute_result",
          "data": {
            "text/plain": [
              "<matplotlib.axes._subplots.AxesSubplot at 0x7fa7662a3190>"
            ]
          },
          "metadata": {
            "tags": []
          },
          "execution_count": 18
        },
        {
          "output_type": "display_data",
          "data": {
            "image/png": "[encoded data removed]",
            "text/plain": [
              "<Figure size 432x288 with 1 Axes>"
            ]
          },
          "metadata": {
            "tags": [],
            "needs_background": "light"
          }
        }
      ]
    },
    {
      "cell_type": "code",
      "metadata": {
        "colab": {
          "base_uri": "https://localhost:8080/",
          "height": 438
        },
        "id": "qxYRU_XCJ3Bt",
        "outputId": "4727932a-df20-41ca-a884-10ae4dc831a5"
      },
      "source": [
        "stats.probplot(train['등록차량수'], plot=plt)"
      ],
      "execution_count": null,
      "outputs": [
        {
          "output_type": "execute_result",
          "data": {
            "text/plain": [
              "((array([-3.49754767, -3.25354064, -3.11858985, ...,  3.11858985,\n",
              "          3.25354064,  3.49754767]),\n",
              "  array([2.63905733, 2.63905733, 2.63905733, ..., 7.84424072, 7.84424072,\n",
              "         7.84424072])),\n",
              " (0.8746754563093113, 5.998125323912191, 0.9835622683570542))"
            ]
          },
          "metadata": {
            "tags": []
          },
          "execution_count": 19
        },
        {
          "output_type": "stream",
          "text": [
            "/usr/local/lib/python3.7/dist-packages/matplotlib/backends/backend_agg.py:214: RuntimeWarning: Glyph 8722 missing from current font.\n",
            "  font.set_text(s, 0.0, flags=flags)\n",
            "/usr/local/lib/python3.7/dist-packages/matplotlib/backends/backend_agg.py:183: RuntimeWarning: Glyph 8722 missing from current font.\n",
            "  font.set_text(s, 0, flags=flags)\n"
          ],
          "name": "stderr"
        },
        {
          "output_type": "display_data",
          "data": {
            "image/png": "[encoded data removed]",
            "text/plain": [
              "<Figure size 432x288 with 1 Axes>"
            ]
          },
          "metadata": {
            "tags": [],
            "needs_background": "light"
          }
        }
      ]
    },
    {
      "cell_type": "code",
      "metadata": {
        "id": "oGmCG3AKJyFu"
      },
      "source": [
        "target = train['등록차량수']"
      ],
      "execution_count": null,
      "outputs": []
    },
    {
      "cell_type": "markdown",
      "metadata": {
        "id": "_sfIp1xmKD-m"
      },
      "source": [
        "d.결측치 확인 및 처리"
      ]
    },
    {
      "cell_type": "code",
      "metadata": {
        "colab": {
          "base_uri": "https://localhost:8080/",
          "height": 204
        },
        "id": "rT57ntLBKAfe",
        "outputId": "3ba9c7e4-a599-4d62-99df-e6ac17d8ace1"
      },
      "source": [
        "null_df = (df.isna().sum() / len(df)) *100\n",
        "null_df = null_df.drop(null_df[null_df == 0].index).sort_values(ascending=False)[:8]\n",
        "missing_data = pd.DataFrame({'Missing Ratio' :null_df})\n",
        "missing_data.head(20)"
      ],
      "execution_count": null,
      "outputs": [
        {
          "output_type": "execute_result",
          "data": {
            "text/html": [
              "<div>\n",
              "<style scoped>\n",
              "    .dataframe tbody tr th:only-of-type {\n",
              "        vertical-align: middle;\n",
              "    }\n",
              "\n",
              "    .dataframe tbody tr th {\n",
              "        vertical-align: top;\n",
              "    }\n",
              "\n",
              "    .dataframe thead th {\n",
              "        text-align: right;\n",
              "    }\n",
              "</style>\n",
              "<table border=\"1\" class=\"dataframe\">\n",
              "  <thead>\n",
              "    <tr style=\"text-align: right;\">\n",
              "      <th></th>\n",
              "      <th>Missing Ratio</th>\n",
              "    </tr>\n",
              "  </thead>\n",
              "  <tbody>\n",
              "    <tr>\n",
              "      <th>임대료</th>\n",
              "      <td>18.847509</td>\n",
              "    </tr>\n",
              "    <tr>\n",
              "      <th>임대보증금</th>\n",
              "      <td>18.847509</td>\n",
              "    </tr>\n",
              "    <tr>\n",
              "      <th>도보 10분거리 내 지하철역 수(환승노선 수 반영)</th>\n",
              "      <td>6.366381</td>\n",
              "    </tr>\n",
              "    <tr>\n",
              "      <th>도보 10분거리 내 버스정류장 수</th>\n",
              "      <td>0.100654</td>\n",
              "    </tr>\n",
              "    <tr>\n",
              "      <th>자격유형</th>\n",
              "      <td>0.050327</td>\n",
              "    </tr>\n",
              "  </tbody>\n",
              "</table>\n",
              "</div>"
            ],
            "text/plain": [
              "                              Missing Ratio\n",
              "임대료                               18.847509\n",
              "임대보증금                             18.847509\n",
              "도보 10분거리 내 지하철역 수(환승노선 수 반영)       6.366381\n",
              "도보 10분거리 내 버스정류장 수                 0.100654\n",
              "자격유형                               0.050327"
            ]
          },
          "metadata": {
            "tags": []
          },
          "execution_count": 21
        }
      ]
    },
    {
      "cell_type": "code",
      "metadata": {
        "colab": {
          "base_uri": "https://localhost:8080/",
          "height": 630
        },
        "id": "Qod-IpO0KMBF",
        "outputId": "4edc1b53-bee4-4c29-a243-9c3cd93fec33"
      },
      "source": [
        "f, ax = plt.subplots(figsize=(10, 7))\n",
        "plt.xticks(rotation='90')\n",
        "sns.barplot(x=null_df.index, y=null_df)"
      ],
      "execution_count": null,
      "outputs": [
        {
          "output_type": "execute_result",
          "data": {
            "text/plain": [
              "<matplotlib.axes._subplots.AxesSubplot at 0x7fa76e50a850>"
            ]
          },
          "metadata": {
            "tags": []
          },
          "execution_count": 22
        },
        {
          "output_type": "display_data",
          "data": {
            "image/png": "[encoded data removed]",
            "text/plain": [
              "<Figure size 720x504 with 1 Axes>"
            ]
          },
          "metadata": {
            "tags": [],
            "needs_background": "light"
          }
        }
      ]
    },
    {
      "cell_type": "markdown",
      "metadata": {
        "id": "hfn4kj45Te78"
      },
      "source": [
        "- 임대료와 임대보증금은 지역을 기준으로 중간값 산출한다.\n",
        "- 도로 10분거리 내 지하철역/ 버스정거장 수는 지역을 기준으로 평균 산출\n",
        "- 자격유형은 빈도수가 제일 큰 'A'로 대체"
      ]
    },
    {
      "cell_type": "code",
      "metadata": {
        "colab": {
          "base_uri": "https://localhost:8080/"
        },
        "id": "0SLTuouNTebD",
        "outputId": "5c31897a-6ff4-4d70-b2a2-af4cac874376"
      },
      "source": [
        "df[\"자격유형\"] = df[\"자격유형\"].fillna(\"A\")\n",
        "# 임대로, 임대보증금에 '-' 이 섞여있다. 이것을 결측치로 먼저 바꿔주기.\n",
        "df = df.replace('-', '', regex=True)\n",
        "for col in ('임대료', '임대보증금'):\n",
        "  df[col] = pd.to_numeric(df[col])\n",
        "  df[col] = df.groupby(\"지역\")[col].transform(lambda x: x.fillna(x.mean()))\n",
        "df[\"도보 10분거리 내 지하철역 수(환승노선 수 반영)\"] = df.groupby(\"지역\")[\"도보 10분거리 내 지하철역 수(환승노선 수 반영)\"].transform(lambda x: x.fillna(x.mean()))\n",
        "df[\"도보 10분거리 내 버스정류장 수\"] = df.groupby(\"지역\")[\"도보 10분거리 내 버스정류장 수\"].transform(lambda x: x.fillna(x.mean()))\n",
        "print(df.info())\n",
        "\n",
        "# int 를 float형으로 바꿔주기\n",
        "#for i in ['총세대수', '전용면적별세대수']:\n",
        "#  df[i] = df[i].astype(float)\n",
        "\n",
        "#print(df.info())"
      ],
      "execution_count": null,
      "outputs": [
        {
          "output_type": "stream",
          "text": [
            "<class 'pandas.core.frame.DataFrame'>\n",
            "Int64Index: 3974 entries, 0 to 1021\n",
            "Data columns (total 17 columns):\n",
            " #   Column                        Non-Null Count  Dtype  \n",
            "---  ------                        --------------  -----  \n",
            " 0   단지코드                          3974 non-null   object \n",
            " 1   총세대수                          3974 non-null   int64  \n",
            " 2   임대건물구분                        3974 non-null   object \n",
            " 3   지역                            3974 non-null   object \n",
            " 4   공급유형                          3974 non-null   object \n",
            " 5   전용면적                          3974 non-null   float64\n",
            " 6   전용면적별세대수                      3974 non-null   int64  \n",
            " 7   공가수                           3974 non-null   float64\n",
            " 8   자격유형                          3974 non-null   object \n",
            " 9   임대보증금                         3974 non-null   float64\n",
            " 10  임대료                           3974 non-null   float64\n",
            " 11  도보 10분거리 내 지하철역 수(환승노선 수 반영)  3974 non-null   float64\n",
            " 12  도보 10분거리 내 버스정류장 수            3974 non-null   float64\n",
            " 13  단지내주차면수                       3974 non-null   float64\n",
            " 14  해당 지역 30대 비율                  3974 non-null   float64\n",
            " 15  해당 지역 40대 비율                  3974 non-null   float64\n",
            " 16  해당 지역 50대 비율                  3974 non-null   float64\n",
            "dtypes: float64(10), int64(2), object(5)\n",
            "memory usage: 558.8+ KB\n",
            "None\n"
          ],
          "name": "stdout"
        }
      ]
    },
    {
      "cell_type": "code",
      "metadata": {
        "id": "ux7ytIQYKSzW",
        "colab": {
          "base_uri": "https://localhost:8080/",
          "height": 49
        },
        "outputId": "5f03a599-2f4e-4230-ad74-fdaa07480386"
      },
      "source": [
        "# 결측치 제거완료\n",
        "\n",
        "null_df = (df.isna().sum() / len(df)) *100\n",
        "null_df = null_df.drop(null_df[null_df == 0].index).sort_values(ascending=False)[:30]\n",
        "missing_data = pd.DataFrame({'Missing Ratio' :null_df})\n",
        "missing_data.head(20)"
      ],
      "execution_count": null,
      "outputs": [
        {
          "output_type": "execute_result",
          "data": {
            "text/html": [
              "<div>\n",
              "<style scoped>\n",
              "    .dataframe tbody tr th:only-of-type {\n",
              "        vertical-align: middle;\n",
              "    }\n",
              "\n",
              "    .dataframe tbody tr th {\n",
              "        vertical-align: top;\n",
              "    }\n",
              "\n",
              "    .dataframe thead th {\n",
              "        text-align: right;\n",
              "    }\n",
              "</style>\n",
              "<table border=\"1\" class=\"dataframe\">\n",
              "  <thead>\n",
              "    <tr style=\"text-align: right;\">\n",
              "      <th></th>\n",
              "      <th>Missing Ratio</th>\n",
              "    </tr>\n",
              "  </thead>\n",
              "  <tbody>\n",
              "  </tbody>\n",
              "</table>\n",
              "</div>"
            ],
            "text/plain": [
              "Empty DataFrame\n",
              "Columns: [Missing Ratio]\n",
              "Index: []"
            ]
          },
          "metadata": {
            "tags": []
          },
          "execution_count": 24
        }
      ]
    },
    {
      "cell_type": "markdown",
      "metadata": {
        "id": "4I67BtOUtRjD"
      },
      "source": [
        "e.순서형과 명목형 데이터 분리"
      ]
    },
    {
      "cell_type": "code",
      "metadata": {
        "colab": {
          "base_uri": "https://localhost:8080/",
          "height": 142
        },
        "id": "sIB9XEMJs1oW",
        "outputId": "4360a752-9691-45b5-cf2e-8c842b377c3c"
      },
      "source": [
        "df_obj = df.select_dtypes(include='object')\n",
        "li_obj = list(df_obj.columns)\n",
        "df_obj.head(3)"
      ],
      "execution_count": null,
      "outputs": [
        {
          "output_type": "execute_result",
          "data": {
            "text/html": [
              "<div>\n",
              "<style scoped>\n",
              "    .dataframe tbody tr th:only-of-type {\n",
              "        vertical-align: middle;\n",
              "    }\n",
              "\n",
              "    .dataframe tbody tr th {\n",
              "        vertical-align: top;\n",
              "    }\n",
              "\n",
              "    .dataframe thead th {\n",
              "        text-align: right;\n",
              "    }\n",
              "</style>\n",
              "<table border=\"1\" class=\"dataframe\">\n",
              "  <thead>\n",
              "    <tr style=\"text-align: right;\">\n",
              "      <th></th>\n",
              "      <th>단지코드</th>\n",
              "      <th>임대건물구분</th>\n",
              "      <th>지역</th>\n",
              "      <th>공급유형</th>\n",
              "      <th>자격유형</th>\n",
              "    </tr>\n",
              "  </thead>\n",
              "  <tbody>\n",
              "    <tr>\n",
              "      <th>0</th>\n",
              "      <td>C2483</td>\n",
              "      <td>아파트</td>\n",
              "      <td>경상북도</td>\n",
              "      <td>국민임대</td>\n",
              "      <td>A</td>\n",
              "    </tr>\n",
              "    <tr>\n",
              "      <th>1</th>\n",
              "      <td>C2483</td>\n",
              "      <td>아파트</td>\n",
              "      <td>경상북도</td>\n",
              "      <td>국민임대</td>\n",
              "      <td>A</td>\n",
              "    </tr>\n",
              "    <tr>\n",
              "      <th>2</th>\n",
              "      <td>C2483</td>\n",
              "      <td>아파트</td>\n",
              "      <td>경상북도</td>\n",
              "      <td>국민임대</td>\n",
              "      <td>A</td>\n",
              "    </tr>\n",
              "  </tbody>\n",
              "</table>\n",
              "</div>"
            ],
            "text/plain": [
              "    단지코드 임대건물구분    지역  공급유형 자격유형\n",
              "0  C2483    아파트  경상북도  국민임대    A\n",
              "1  C2483    아파트  경상북도  국민임대    A\n",
              "2  C2483    아파트  경상북도  국민임대    A"
            ]
          },
          "metadata": {
            "tags": []
          },
          "execution_count": 25
        }
      ]
    },
    {
      "cell_type": "code",
      "metadata": {
        "colab": {
          "base_uri": "https://localhost:8080/"
        },
        "id": "9b52mwprtUWO",
        "outputId": "8c439651-8e6c-4642-ea64-7ed2a05d3461"
      },
      "source": [
        "df_int = df.select_dtypes(exclude='object')\n",
        "li_int = list(df_int.columns)\n",
        "print(df_int.head(3))\n",
        "df_int.info()\n"
      ],
      "execution_count": null,
      "outputs": [
        {
          "output_type": "stream",
          "text": [
            "   총세대수   전용면적  전용면적별세대수  ...  해당 지역 30대 비율  해당 지역 40대 비율  해당 지역 50대 비율\n",
            "0   900  39.72       134  ...      0.103005      0.156273      0.159295\n",
            "1   900  39.72        15  ...      0.103005      0.156273      0.159295\n",
            "2   900  51.93       385  ...      0.103005      0.156273      0.159295\n",
            "\n",
            "[3 rows x 12 columns]\n",
            "<class 'pandas.core.frame.DataFrame'>\n",
            "Int64Index: 3974 entries, 0 to 1021\n",
            "Data columns (total 12 columns):\n",
            " #   Column                        Non-Null Count  Dtype  \n",
            "---  ------                        --------------  -----  \n",
            " 0   총세대수                          3974 non-null   int64  \n",
            " 1   전용면적                          3974 non-null   float64\n",
            " 2   전용면적별세대수                      3974 non-null   int64  \n",
            " 3   공가수                           3974 non-null   float64\n",
            " 4   임대보증금                         3974 non-null   float64\n",
            " 5   임대료                           3974 non-null   float64\n",
            " 6   도보 10분거리 내 지하철역 수(환승노선 수 반영)  3974 non-null   float64\n",
            " 7   도보 10분거리 내 버스정류장 수            3974 non-null   float64\n",
            " 8   단지내주차면수                       3974 non-null   float64\n",
            " 9   해당 지역 30대 비율                  3974 non-null   float64\n",
            " 10  해당 지역 40대 비율                  3974 non-null   float64\n",
            " 11  해당 지역 50대 비율                  3974 non-null   float64\n",
            "dtypes: float64(10), int64(2)\n",
            "memory usage: 403.6 KB\n"
          ],
          "name": "stdout"
        }
      ]
    },
    {
      "cell_type": "markdown",
      "metadata": {
        "id": "JwaTK-iztw7y"
      },
      "source": [
        "g.수치형 변수 확인"
      ]
    },
    {
      "cell_type": "code",
      "metadata": {
        "id": "_1fCdA4Atwha"
      },
      "source": [
        "#"
      ],
      "execution_count": null,
      "outputs": []
    },
    {
      "cell_type": "markdown",
      "metadata": {
        "id": "YdMGymk9-WO9"
      },
      "source": [
        "*h*.범주형 변수 확인"
      ]
    },
    {
      "cell_type": "code",
      "metadata": {
        "id": "kG8HWKwQtgOS"
      },
      "source": [
        "#"
      ],
      "execution_count": null,
      "outputs": []
    },
    {
      "cell_type": "markdown",
      "metadata": {
        "id": "RiqR1GOZCh83"
      },
      "source": [
        "i.box-cox 변환"
      ]
    },
    {
      "cell_type": "code",
      "metadata": {
        "colab": {
          "base_uri": "https://localhost:8080/"
        },
        "id": "VmA4WUu4CnSN",
        "outputId": "ffa84ab7-4665-4ef4-9787-b40250521297"
      },
      "source": [
        "numeric_featuers = df.dtypes[df.dtypes != 'object'].index\n",
        "numeric_featuers"
      ],
      "execution_count": null,
      "outputs": [
        {
          "output_type": "execute_result",
          "data": {
            "text/plain": [
              "Index(['총세대수', '전용면적', '전용면적별세대수', '공가수', '임대보증금', '임대료',\n",
              "       '도보 10분거리 내 지하철역 수(환승노선 수 반영)', '도보 10분거리 내 버스정류장 수', '단지내주차면수',\n",
              "       '해당 지역 30대 비율', '해당 지역 40대 비율', '해당 지역 50대 비율'],\n",
              "      dtype='object')"
            ]
          },
          "metadata": {
            "tags": []
          },
          "execution_count": 29
        }
      ]
    },
    {
      "cell_type": "code",
      "metadata": {
        "colab": {
          "base_uri": "https://localhost:8080/"
        },
        "id": "zKW7Z8O1CnKO",
        "outputId": "0705a546-a161-4e67-d6e7-aa2ed767e89c"
      },
      "source": [
        "from scipy.stats import skew \n",
        "skewness = df[numeric_featuers].apply(lambda x: skew(x.dropna())).sort_values(ascending=False)\n",
        "skewness"
      ],
      "execution_count": null,
      "outputs": [
        {
          "output_type": "execute_result",
          "data": {
            "text/plain": [
              "전용면적                            10.860520\n",
              "도보 10분거리 내 버스정류장 수               5.988969\n",
              "임대보증금                            3.832198\n",
              "전용면적별세대수                         3.319751\n",
              "도보 10분거리 내 지하철역 수(환승노선 수 반영)     2.570841\n",
              "임대료                              2.404513\n",
              "총세대수                             1.268272\n",
              "해당 지역 30대 비율                     1.266676\n",
              "단지내주차면수                          0.944875\n",
              "공가수                              0.809825\n",
              "해당 지역 40대 비율                    -0.805784\n",
              "해당 지역 50대 비율                    -0.854936\n",
              "dtype: float64"
            ]
          },
          "metadata": {
            "tags": []
          },
          "execution_count": 30
        }
      ]
    },
    {
      "cell_type": "code",
      "metadata": {
        "colab": {
          "base_uri": "https://localhost:8080/"
        },
        "id": "nG93Bv1vCnCz",
        "outputId": "72e573cf-daa4-4071-899c-e402ef9d79f8"
      },
      "source": [
        "high_skewness = skewness[abs(skewness) > 0.5]\n",
        "skew_feat = high_skewness.index\n",
        "skew_feat"
      ],
      "execution_count": null,
      "outputs": [
        {
          "output_type": "execute_result",
          "data": {
            "text/plain": [
              "Index(['전용면적', '도보 10분거리 내 버스정류장 수', '임대보증금', '전용면적별세대수',\n",
              "       '도보 10분거리 내 지하철역 수(환승노선 수 반영)', '임대료', '총세대수', '해당 지역 30대 비율',\n",
              "       '단지내주차면수', '공가수', '해당 지역 40대 비율', '해당 지역 50대 비율'],\n",
              "      dtype='object')"
            ]
          },
          "metadata": {
            "tags": []
          },
          "execution_count": 31
        }
      ]
    },
    {
      "cell_type": "code",
      "metadata": {
        "colab": {
          "base_uri": "https://localhost:8080/"
        },
        "id": "as2VUDPiDz_g",
        "outputId": "bf4aa0ae-2257-412d-85fd-1810b325e9d1"
      },
      "source": [
        "print(high_skewness)\n",
        "print(skew_feat)"
      ],
      "execution_count": null,
      "outputs": [
        {
          "output_type": "stream",
          "text": [
            "전용면적                            10.860520\n",
            "도보 10분거리 내 버스정류장 수               5.988969\n",
            "임대보증금                            3.832198\n",
            "전용면적별세대수                         3.319751\n",
            "도보 10분거리 내 지하철역 수(환승노선 수 반영)     2.570841\n",
            "임대료                              2.404513\n",
            "총세대수                             1.268272\n",
            "해당 지역 30대 비율                     1.266676\n",
            "단지내주차면수                          0.944875\n",
            "공가수                              0.809825\n",
            "해당 지역 40대 비율                    -0.805784\n",
            "해당 지역 50대 비율                    -0.854936\n",
            "dtype: float64\n",
            "Index(['전용면적', '도보 10분거리 내 버스정류장 수', '임대보증금', '전용면적별세대수',\n",
            "       '도보 10분거리 내 지하철역 수(환승노선 수 반영)', '임대료', '총세대수', '해당 지역 30대 비율',\n",
            "       '단지내주차면수', '공가수', '해당 지역 40대 비율', '해당 지역 50대 비율'],\n",
            "      dtype='object')\n"
          ],
          "name": "stdout"
        }
      ]
    },
    {
      "cell_type": "code",
      "metadata": {
        "id": "YalW3jzMD765"
      },
      "source": [
        "from scipy.special import boxcox1p\n",
        "lam = 0.15\n",
        "for feat in skew_feat:\n",
        "    df[feat] = boxcox1p(df[feat], lam)"
      ],
      "execution_count": null,
      "outputs": []
    },
    {
      "cell_type": "code",
      "metadata": {
        "colab": {
          "base_uri": "https://localhost:8080/",
          "height": 942
        },
        "id": "6a9gFxDnEJly",
        "outputId": "5d580a26-3bcf-4ae6-cf1a-29a9698901bf"
      },
      "source": [
        "skewness = df[numeric_featuers].apply(lambda x: skew(x.dropna())).sort_values(ascending=False)\n",
        "print(skewness)\n",
        "\n",
        "df"
      ],
      "execution_count": null,
      "outputs": [
        {
          "output_type": "stream",
          "text": [
            "도보 10분거리 내 지하철역 수(환승노선 수 반영)    2.132411\n",
            "전용면적                            1.884380\n",
            "도보 10분거리 내 버스정류장 수              1.221224\n",
            "해당 지역 30대 비율                    1.166579\n",
            "임대보증금                           0.479611\n",
            "임대료                             0.244179\n",
            "총세대수                           -0.216230\n",
            "전용면적별세대수                       -0.270051\n",
            "단지내주차면수                        -0.310049\n",
            "공가수                            -0.450107\n",
            "해당 지역 40대 비율                   -0.822189\n",
            "해당 지역 50대 비율                   -0.874153\n",
            "dtype: float64\n"
          ],
          "name": "stdout"
        },
        {
          "output_type": "execute_result",
          "data": {
            "text/html": [
              "<div>\n",
              "<style scoped>\n",
              "    .dataframe tbody tr th:only-of-type {\n",
              "        vertical-align: middle;\n",
              "    }\n",
              "\n",
              "    .dataframe tbody tr th {\n",
              "        vertical-align: top;\n",
              "    }\n",
              "\n",
              "    .dataframe thead th {\n",
              "        text-align: right;\n",
              "    }\n",
              "</style>\n",
              "<table border=\"1\" class=\"dataframe\">\n",
              "  <thead>\n",
              "    <tr style=\"text-align: right;\">\n",
              "      <th></th>\n",
              "      <th>단지코드</th>\n",
              "      <th>총세대수</th>\n",
              "      <th>임대건물구분</th>\n",
              "      <th>지역</th>\n",
              "      <th>공급유형</th>\n",
              "      <th>전용면적</th>\n",
              "      <th>전용면적별세대수</th>\n",
              "      <th>공가수</th>\n",
              "      <th>자격유형</th>\n",
              "      <th>임대보증금</th>\n",
              "      <th>임대료</th>\n",
              "      <th>도보 10분거리 내 지하철역 수(환승노선 수 반영)</th>\n",
              "      <th>도보 10분거리 내 버스정류장 수</th>\n",
              "      <th>단지내주차면수</th>\n",
              "      <th>해당 지역 30대 비율</th>\n",
              "      <th>해당 지역 40대 비율</th>\n",
              "      <th>해당 지역 50대 비율</th>\n",
              "    </tr>\n",
              "  </thead>\n",
              "  <tbody>\n",
              "    <tr>\n",
              "      <th>0</th>\n",
              "      <td>C2483</td>\n",
              "      <td>11.831022</td>\n",
              "      <td>아파트</td>\n",
              "      <td>경상북도</td>\n",
              "      <td>국민임대</td>\n",
              "      <td>4.957984</td>\n",
              "      <td>7.247551</td>\n",
              "      <td>4.882973</td>\n",
              "      <td>A</td>\n",
              "      <td>73.345609</td>\n",
              "      <td>31.026586</td>\n",
              "      <td>0.0</td>\n",
              "      <td>1.540963</td>\n",
              "      <td>13.14982</td>\n",
              "      <td>0.098763</td>\n",
              "      <td>0.146794</td>\n",
              "      <td>0.149463</td>\n",
              "    </tr>\n",
              "    <tr>\n",
              "      <th>1</th>\n",
              "      <td>C2483</td>\n",
              "      <td>11.831022</td>\n",
              "      <td>아파트</td>\n",
              "      <td>경상북도</td>\n",
              "      <td>국민임대</td>\n",
              "      <td>4.957984</td>\n",
              "      <td>3.438110</td>\n",
              "      <td>4.882973</td>\n",
              "      <td>A</td>\n",
              "      <td>73.345609</td>\n",
              "      <td>31.026586</td>\n",
              "      <td>0.0</td>\n",
              "      <td>1.540963</td>\n",
              "      <td>13.14982</td>\n",
              "      <td>0.098763</td>\n",
              "      <td>0.146794</td>\n",
              "      <td>0.149463</td>\n",
              "    </tr>\n",
              "    <tr>\n",
              "      <th>2</th>\n",
              "      <td>C2483</td>\n",
              "      <td>11.831022</td>\n",
              "      <td>아파트</td>\n",
              "      <td>경상북도</td>\n",
              "      <td>국민임대</td>\n",
              "      <td>5.424384</td>\n",
              "      <td>9.622424</td>\n",
              "      <td>4.882973</td>\n",
              "      <td>A</td>\n",
              "      <td>80.297970</td>\n",
              "      <td>34.424502</td>\n",
              "      <td>0.0</td>\n",
              "      <td>1.540963</td>\n",
              "      <td>13.14982</td>\n",
              "      <td>0.098763</td>\n",
              "      <td>0.146794</td>\n",
              "      <td>0.149463</td>\n",
              "    </tr>\n",
              "    <tr>\n",
              "      <th>3</th>\n",
              "      <td>C2483</td>\n",
              "      <td>11.831022</td>\n",
              "      <td>아파트</td>\n",
              "      <td>경상북도</td>\n",
              "      <td>국민임대</td>\n",
              "      <td>5.424384</td>\n",
              "      <td>3.438110</td>\n",
              "      <td>4.882973</td>\n",
              "      <td>A</td>\n",
              "      <td>80.297970</td>\n",
              "      <td>34.424502</td>\n",
              "      <td>0.0</td>\n",
              "      <td>1.540963</td>\n",
              "      <td>13.14982</td>\n",
              "      <td>0.098763</td>\n",
              "      <td>0.146794</td>\n",
              "      <td>0.149463</td>\n",
              "    </tr>\n",
              "    <tr>\n",
              "      <th>4</th>\n",
              "      <td>C2483</td>\n",
              "      <td>11.831022</td>\n",
              "      <td>아파트</td>\n",
              "      <td>경상북도</td>\n",
              "      <td>국민임대</td>\n",
              "      <td>5.424384</td>\n",
              "      <td>5.012077</td>\n",
              "      <td>4.882973</td>\n",
              "      <td>A</td>\n",
              "      <td>80.297970</td>\n",
              "      <td>34.424502</td>\n",
              "      <td>0.0</td>\n",
              "      <td>1.540963</td>\n",
              "      <td>13.14982</td>\n",
              "      <td>0.098763</td>\n",
              "      <td>0.146794</td>\n",
              "      <td>0.149463</td>\n",
              "    </tr>\n",
              "    <tr>\n",
              "      <th>...</th>\n",
              "      <td>...</td>\n",
              "      <td>...</td>\n",
              "      <td>...</td>\n",
              "      <td>...</td>\n",
              "      <td>...</td>\n",
              "      <td>...</td>\n",
              "      <td>...</td>\n",
              "      <td>...</td>\n",
              "      <td>...</td>\n",
              "      <td>...</td>\n",
              "      <td>...</td>\n",
              "      <td>...</td>\n",
              "      <td>...</td>\n",
              "      <td>...</td>\n",
              "      <td>...</td>\n",
              "      <td>...</td>\n",
              "      <td>...</td>\n",
              "    </tr>\n",
              "    <tr>\n",
              "      <th>1017</th>\n",
              "      <td>C1229</td>\n",
              "      <td>10.023748</td>\n",
              "      <td>아파트</td>\n",
              "      <td>세종특별자치시</td>\n",
              "      <td>행복주택</td>\n",
              "      <td>4.891838</td>\n",
              "      <td>5.914940</td>\n",
              "      <td>4.071754</td>\n",
              "      <td>J</td>\n",
              "      <td>81.579507</td>\n",
              "      <td>31.881458</td>\n",
              "      <td>0.0</td>\n",
              "      <td>1.194318</td>\n",
              "      <td>9.15575</td>\n",
              "      <td>0.193854</td>\n",
              "      <td>0.141314</td>\n",
              "      <td>0.117649</td>\n",
              "    </tr>\n",
              "    <tr>\n",
              "      <th>1018</th>\n",
              "      <td>C1229</td>\n",
              "      <td>10.023748</td>\n",
              "      <td>아파트</td>\n",
              "      <td>세종특별자치시</td>\n",
              "      <td>행복주택</td>\n",
              "      <td>4.891838</td>\n",
              "      <td>2.602594</td>\n",
              "      <td>4.071754</td>\n",
              "      <td>J</td>\n",
              "      <td>81.579507</td>\n",
              "      <td>31.881458</td>\n",
              "      <td>0.0</td>\n",
              "      <td>1.194318</td>\n",
              "      <td>9.15575</td>\n",
              "      <td>0.193854</td>\n",
              "      <td>0.141314</td>\n",
              "      <td>0.117649</td>\n",
              "    </tr>\n",
              "    <tr>\n",
              "      <th>1019</th>\n",
              "      <td>C1229</td>\n",
              "      <td>10.023748</td>\n",
              "      <td>아파트</td>\n",
              "      <td>세종특별자치시</td>\n",
              "      <td>행복주택</td>\n",
              "      <td>4.894048</td>\n",
              "      <td>1.540963</td>\n",
              "      <td>4.071754</td>\n",
              "      <td>J</td>\n",
              "      <td>81.579507</td>\n",
              "      <td>31.881458</td>\n",
              "      <td>0.0</td>\n",
              "      <td>1.194318</td>\n",
              "      <td>9.15575</td>\n",
              "      <td>0.193854</td>\n",
              "      <td>0.141314</td>\n",
              "      <td>0.117649</td>\n",
              "    </tr>\n",
              "    <tr>\n",
              "      <th>1020</th>\n",
              "      <td>C1229</td>\n",
              "      <td>10.023748</td>\n",
              "      <td>아파트</td>\n",
              "      <td>세종특별자치시</td>\n",
              "      <td>행복주택</td>\n",
              "      <td>4.895373</td>\n",
              "      <td>1.820334</td>\n",
              "      <td>4.071754</td>\n",
              "      <td>J</td>\n",
              "      <td>81.579507</td>\n",
              "      <td>31.881458</td>\n",
              "      <td>0.0</td>\n",
              "      <td>1.194318</td>\n",
              "      <td>9.15575</td>\n",
              "      <td>0.193854</td>\n",
              "      <td>0.141314</td>\n",
              "      <td>0.117649</td>\n",
              "    </tr>\n",
              "    <tr>\n",
              "      <th>1021</th>\n",
              "      <td>C1229</td>\n",
              "      <td>10.023748</td>\n",
              "      <td>아파트</td>\n",
              "      <td>세종특별자치시</td>\n",
              "      <td>행복주택</td>\n",
              "      <td>5.134354</td>\n",
              "      <td>4.492018</td>\n",
              "      <td>4.071754</td>\n",
              "      <td>J</td>\n",
              "      <td>83.199869</td>\n",
              "      <td>32.589376</td>\n",
              "      <td>0.0</td>\n",
              "      <td>1.194318</td>\n",
              "      <td>9.15575</td>\n",
              "      <td>0.193854</td>\n",
              "      <td>0.141314</td>\n",
              "      <td>0.117649</td>\n",
              "    </tr>\n",
              "  </tbody>\n",
              "</table>\n",
              "<p>3974 rows × 17 columns</p>\n",
              "</div>"
            ],
            "text/plain": [
              "       단지코드       총세대수 임대건물구분  ... 해당 지역 30대 비율 해당 지역 40대 비율  해당 지역 50대 비율\n",
              "0     C2483  11.831022    아파트  ...     0.098763     0.146794      0.149463\n",
              "1     C2483  11.831022    아파트  ...     0.098763     0.146794      0.149463\n",
              "2     C2483  11.831022    아파트  ...     0.098763     0.146794      0.149463\n",
              "3     C2483  11.831022    아파트  ...     0.098763     0.146794      0.149463\n",
              "4     C2483  11.831022    아파트  ...     0.098763     0.146794      0.149463\n",
              "...     ...        ...    ...  ...          ...          ...           ...\n",
              "1017  C1229  10.023748    아파트  ...     0.193854     0.141314      0.117649\n",
              "1018  C1229  10.023748    아파트  ...     0.193854     0.141314      0.117649\n",
              "1019  C1229  10.023748    아파트  ...     0.193854     0.141314      0.117649\n",
              "1020  C1229  10.023748    아파트  ...     0.193854     0.141314      0.117649\n",
              "1021  C1229  10.023748    아파트  ...     0.193854     0.141314      0.117649\n",
              "\n",
              "[3974 rows x 17 columns]"
            ]
          },
          "metadata": {
            "tags": []
          },
          "execution_count": 34
        }
      ]
    },
    {
      "cell_type": "markdown",
      "metadata": {
        "id": "zFZnQZYoGGHB"
      },
      "source": [
        "k.더미변수 만들기"
      ]
    },
    {
      "cell_type": "code",
      "metadata": {
        "colab": {
          "base_uri": "https://localhost:8080/",
          "height": 763
        },
        "id": "R884nP0kEXry",
        "outputId": "e487ecd3-4ef6-49bf-ecd1-315c51b25d6d"
      },
      "source": [
        "# object 변수들에 대하여 더미변수 취해주기\n",
        "\n",
        "df = pd.get_dummies(df, columns = ['임대건물구분','지역', '공급유형', '자격유형'])\n",
        "print(df.shape)\n",
        "df"
      ],
      "execution_count": null,
      "outputs": [
        {
          "output_type": "stream",
          "text": [
            "(3974, 56)\n"
          ],
          "name": "stdout"
        },
        {
          "output_type": "execute_result",
          "data": {
            "text/html": [
              "<div>\n",
              "<style scoped>\n",
              "    .dataframe tbody tr th:only-of-type {\n",
              "        vertical-align: middle;\n",
              "    }\n",
              "\n",
              "    .dataframe tbody tr th {\n",
              "        vertical-align: top;\n",
              "    }\n",
              "\n",
              "    .dataframe thead th {\n",
              "        text-align: right;\n",
              "    }\n",
              "</style>\n",
              "<table border=\"1\" class=\"dataframe\">\n",
              "  <thead>\n",
              "    <tr style=\"text-align: right;\">\n",
              "      <th></th>\n",
              "      <th>단지코드</th>\n",
              "      <th>총세대수</th>\n",
              "      <th>전용면적</th>\n",
              "      <th>전용면적별세대수</th>\n",
              "      <th>공가수</th>\n",
              "      <th>임대보증금</th>\n",
              "      <th>임대료</th>\n",
              "      <th>도보 10분거리 내 지하철역 수(환승노선 수 반영)</th>\n",
              "      <th>도보 10분거리 내 버스정류장 수</th>\n",
              "      <th>단지내주차면수</th>\n",
              "      <th>해당 지역 30대 비율</th>\n",
              "      <th>해당 지역 40대 비율</th>\n",
              "      <th>해당 지역 50대 비율</th>\n",
              "      <th>임대건물구분_상가</th>\n",
              "      <th>임대건물구분_아파트</th>\n",
              "      <th>지역_강원도</th>\n",
              "      <th>지역_경기도</th>\n",
              "      <th>지역_경상남도</th>\n",
              "      <th>지역_경상북도</th>\n",
              "      <th>지역_광주광역시</th>\n",
              "      <th>지역_대구광역시</th>\n",
              "      <th>지역_대전광역시</th>\n",
              "      <th>지역_부산광역시</th>\n",
              "      <th>지역_서울특별시</th>\n",
              "      <th>지역_세종특별자치시</th>\n",
              "      <th>지역_울산광역시</th>\n",
              "      <th>지역_전라남도</th>\n",
              "      <th>지역_전라북도</th>\n",
              "      <th>지역_제주특별자치도</th>\n",
              "      <th>지역_충청남도</th>\n",
              "      <th>지역_충청북도</th>\n",
              "      <th>공급유형_공공분양</th>\n",
              "      <th>공급유형_공공임대(10년)</th>\n",
              "      <th>공급유형_공공임대(50년)</th>\n",
              "      <th>공급유형_공공임대(5년)</th>\n",
              "      <th>공급유형_공공임대(분납)</th>\n",
              "      <th>공급유형_국민임대</th>\n",
              "      <th>공급유형_영구임대</th>\n",
              "      <th>공급유형_임대상가</th>\n",
              "      <th>공급유형_장기전세</th>\n",
              "      <th>공급유형_행복주택</th>\n",
              "      <th>자격유형_A</th>\n",
              "      <th>자격유형_B</th>\n",
              "      <th>자격유형_C</th>\n",
              "      <th>자격유형_D</th>\n",
              "      <th>자격유형_E</th>\n",
              "      <th>자격유형_F</th>\n",
              "      <th>자격유형_G</th>\n",
              "      <th>자격유형_H</th>\n",
              "      <th>자격유형_I</th>\n",
              "      <th>자격유형_J</th>\n",
              "      <th>자격유형_K</th>\n",
              "      <th>자격유형_L</th>\n",
              "      <th>자격유형_M</th>\n",
              "      <th>자격유형_N</th>\n",
              "      <th>자격유형_O</th>\n",
              "    </tr>\n",
              "  </thead>\n",
              "  <tbody>\n",
              "    <tr>\n",
              "      <th>0</th>\n",
              "      <td>C2483</td>\n",
              "      <td>11.831022</td>\n",
              "      <td>4.957984</td>\n",
              "      <td>7.247551</td>\n",
              "      <td>4.882973</td>\n",
              "      <td>73.345609</td>\n",
              "      <td>31.026586</td>\n",
              "      <td>0.0</td>\n",
              "      <td>1.540963</td>\n",
              "      <td>13.14982</td>\n",
              "      <td>0.098763</td>\n",
              "      <td>0.146794</td>\n",
              "      <td>0.149463</td>\n",
              "      <td>0</td>\n",
              "      <td>1</td>\n",
              "      <td>0</td>\n",
              "      <td>0</td>\n",
              "      <td>0</td>\n",
              "      <td>1</td>\n",
              "      <td>0</td>\n",
              "      <td>0</td>\n",
              "      <td>0</td>\n",
              "      <td>0</td>\n",
              "      <td>0</td>\n",
              "      <td>0</td>\n",
              "      <td>0</td>\n",
              "      <td>0</td>\n",
              "      <td>0</td>\n",
              "      <td>0</td>\n",
              "      <td>0</td>\n",
              "      <td>0</td>\n",
              "      <td>0</td>\n",
              "      <td>0</td>\n",
              "      <td>0</td>\n",
              "      <td>0</td>\n",
              "      <td>0</td>\n",
              "      <td>1</td>\n",
              "      <td>0</td>\n",
              "      <td>0</td>\n",
              "      <td>0</td>\n",
              "      <td>0</td>\n",
              "      <td>1</td>\n",
              "      <td>0</td>\n",
              "      <td>0</td>\n",
              "      <td>0</td>\n",
              "      <td>0</td>\n",
              "      <td>0</td>\n",
              "      <td>0</td>\n",
              "      <td>0</td>\n",
              "      <td>0</td>\n",
              "      <td>0</td>\n",
              "      <td>0</td>\n",
              "      <td>0</td>\n",
              "      <td>0</td>\n",
              "      <td>0</td>\n",
              "      <td>0</td>\n",
              "    </tr>\n",
              "    <tr>\n",
              "      <th>1</th>\n",
              "      <td>C2483</td>\n",
              "      <td>11.831022</td>\n",
              "      <td>4.957984</td>\n",
              "      <td>3.438110</td>\n",
              "      <td>4.882973</td>\n",
              "      <td>73.345609</td>\n",
              "      <td>31.026586</td>\n",
              "      <td>0.0</td>\n",
              "      <td>1.540963</td>\n",
              "      <td>13.14982</td>\n",
              "      <td>0.098763</td>\n",
              "      <td>0.146794</td>\n",
              "      <td>0.149463</td>\n",
              "      <td>0</td>\n",
              "      <td>1</td>\n",
              "      <td>0</td>\n",
              "      <td>0</td>\n",
              "      <td>0</td>\n",
              "      <td>1</td>\n",
              "      <td>0</td>\n",
              "      <td>0</td>\n",
              "      <td>0</td>\n",
              "      <td>0</td>\n",
              "      <td>0</td>\n",
              "      <td>0</td>\n",
              "      <td>0</td>\n",
              "      <td>0</td>\n",
              "      <td>0</td>\n",
              "      <td>0</td>\n",
              "      <td>0</td>\n",
              "      <td>0</td>\n",
              "      <td>0</td>\n",
              "      <td>0</td>\n",
              "      <td>0</td>\n",
              "      <td>0</td>\n",
              "      <td>0</td>\n",
              "      <td>1</td>\n",
              "      <td>0</td>\n",
              "      <td>0</td>\n",
              "      <td>0</td>\n",
              "      <td>0</td>\n",
              "      <td>1</td>\n",
              "      <td>0</td>\n",
              "      <td>0</td>\n",
              "      <td>0</td>\n",
              "      <td>0</td>\n",
              "      <td>0</td>\n",
              "      <td>0</td>\n",
              "      <td>0</td>\n",
              "      <td>0</td>\n",
              "      <td>0</td>\n",
              "      <td>0</td>\n",
              "      <td>0</td>\n",
              "      <td>0</td>\n",
              "      <td>0</td>\n",
              "      <td>0</td>\n",
              "    </tr>\n",
              "    <tr>\n",
              "      <th>2</th>\n",
              "      <td>C2483</td>\n",
              "      <td>11.831022</td>\n",
              "      <td>5.424384</td>\n",
              "      <td>9.622424</td>\n",
              "      <td>4.882973</td>\n",
              "      <td>80.297970</td>\n",
              "      <td>34.424502</td>\n",
              "      <td>0.0</td>\n",
              "      <td>1.540963</td>\n",
              "      <td>13.14982</td>\n",
              "      <td>0.098763</td>\n",
              "      <td>0.146794</td>\n",
              "      <td>0.149463</td>\n",
              "      <td>0</td>\n",
              "      <td>1</td>\n",
              "      <td>0</td>\n",
              "      <td>0</td>\n",
              "      <td>0</td>\n",
              "      <td>1</td>\n",
              "      <td>0</td>\n",
              "      <td>0</td>\n",
              "      <td>0</td>\n",
              "      <td>0</td>\n",
              "      <td>0</td>\n",
              "      <td>0</td>\n",
              "      <td>0</td>\n",
              "      <td>0</td>\n",
              "      <td>0</td>\n",
              "      <td>0</td>\n",
              "      <td>0</td>\n",
              "      <td>0</td>\n",
              "      <td>0</td>\n",
              "      <td>0</td>\n",
              "      <td>0</td>\n",
              "      <td>0</td>\n",
              "      <td>0</td>\n",
              "      <td>1</td>\n",
              "      <td>0</td>\n",
              "      <td>0</td>\n",
              "      <td>0</td>\n",
              "      <td>0</td>\n",
              "      <td>1</td>\n",
              "      <td>0</td>\n",
              "      <td>0</td>\n",
              "      <td>0</td>\n",
              "      <td>0</td>\n",
              "      <td>0</td>\n",
              "      <td>0</td>\n",
              "      <td>0</td>\n",
              "      <td>0</td>\n",
              "      <td>0</td>\n",
              "      <td>0</td>\n",
              "      <td>0</td>\n",
              "      <td>0</td>\n",
              "      <td>0</td>\n",
              "      <td>0</td>\n",
              "    </tr>\n",
              "    <tr>\n",
              "      <th>3</th>\n",
              "      <td>C2483</td>\n",
              "      <td>11.831022</td>\n",
              "      <td>5.424384</td>\n",
              "      <td>3.438110</td>\n",
              "      <td>4.882973</td>\n",
              "      <td>80.297970</td>\n",
              "      <td>34.424502</td>\n",
              "      <td>0.0</td>\n",
              "      <td>1.540963</td>\n",
              "      <td>13.14982</td>\n",
              "      <td>0.098763</td>\n",
              "      <td>0.146794</td>\n",
              "      <td>0.149463</td>\n",
              "      <td>0</td>\n",
              "      <td>1</td>\n",
              "      <td>0</td>\n",
              "      <td>0</td>\n",
              "      <td>0</td>\n",
              "      <td>1</td>\n",
              "      <td>0</td>\n",
              "      <td>0</td>\n",
              "      <td>0</td>\n",
              "      <td>0</td>\n",
              "      <td>0</td>\n",
              "      <td>0</td>\n",
              "      <td>0</td>\n",
              "      <td>0</td>\n",
              "      <td>0</td>\n",
              "      <td>0</td>\n",
              "      <td>0</td>\n",
              "      <td>0</td>\n",
              "      <td>0</td>\n",
              "      <td>0</td>\n",
              "      <td>0</td>\n",
              "      <td>0</td>\n",
              "      <td>0</td>\n",
              "      <td>1</td>\n",
              "      <td>0</td>\n",
              "      <td>0</td>\n",
              "      <td>0</td>\n",
              "      <td>0</td>\n",
              "      <td>1</td>\n",
              "      <td>0</td>\n",
              "      <td>0</td>\n",
              "      <td>0</td>\n",
              "      <td>0</td>\n",
              "      <td>0</td>\n",
              "      <td>0</td>\n",
              "      <td>0</td>\n",
              "      <td>0</td>\n",
              "      <td>0</td>\n",
              "      <td>0</td>\n",
              "      <td>0</td>\n",
              "      <td>0</td>\n",
              "      <td>0</td>\n",
              "      <td>0</td>\n",
              "    </tr>\n",
              "    <tr>\n",
              "      <th>4</th>\n",
              "      <td>C2483</td>\n",
              "      <td>11.831022</td>\n",
              "      <td>5.424384</td>\n",
              "      <td>5.012077</td>\n",
              "      <td>4.882973</td>\n",
              "      <td>80.297970</td>\n",
              "      <td>34.424502</td>\n",
              "      <td>0.0</td>\n",
              "      <td>1.540963</td>\n",
              "      <td>13.14982</td>\n",
              "      <td>0.098763</td>\n",
              "      <td>0.146794</td>\n",
              "      <td>0.149463</td>\n",
              "      <td>0</td>\n",
              "      <td>1</td>\n",
              "      <td>0</td>\n",
              "      <td>0</td>\n",
              "      <td>0</td>\n",
              "      <td>1</td>\n",
              "      <td>0</td>\n",
              "      <td>0</td>\n",
              "      <td>0</td>\n",
              "      <td>0</td>\n",
              "      <td>0</td>\n",
              "      <td>0</td>\n",
              "      <td>0</td>\n",
              "      <td>0</td>\n",
              "      <td>0</td>\n",
              "      <td>0</td>\n",
              "      <td>0</td>\n",
              "      <td>0</td>\n",
              "      <td>0</td>\n",
              "      <td>0</td>\n",
              "      <td>0</td>\n",
              "      <td>0</td>\n",
              "      <td>0</td>\n",
              "      <td>1</td>\n",
              "      <td>0</td>\n",
              "      <td>0</td>\n",
              "      <td>0</td>\n",
              "      <td>0</td>\n",
              "      <td>1</td>\n",
              "      <td>0</td>\n",
              "      <td>0</td>\n",
              "      <td>0</td>\n",
              "      <td>0</td>\n",
              "      <td>0</td>\n",
              "      <td>0</td>\n",
              "      <td>0</td>\n",
              "      <td>0</td>\n",
              "      <td>0</td>\n",
              "      <td>0</td>\n",
              "      <td>0</td>\n",
              "      <td>0</td>\n",
              "      <td>0</td>\n",
              "      <td>0</td>\n",
              "    </tr>\n",
              "    <tr>\n",
              "      <th>...</th>\n",
              "      <td>...</td>\n",
              "      <td>...</td>\n",
              "      <td>...</td>\n",
              "      <td>...</td>\n",
              "      <td>...</td>\n",
              "      <td>...</td>\n",
              "      <td>...</td>\n",
              "      <td>...</td>\n",
              "      <td>...</td>\n",
              "      <td>...</td>\n",
              "      <td>...</td>\n",
              "      <td>...</td>\n",
              "      <td>...</td>\n",
              "      <td>...</td>\n",
              "      <td>...</td>\n",
              "      <td>...</td>\n",
              "      <td>...</td>\n",
              "      <td>...</td>\n",
              "      <td>...</td>\n",
              "      <td>...</td>\n",
              "      <td>...</td>\n",
              "      <td>...</td>\n",
              "      <td>...</td>\n",
              "      <td>...</td>\n",
              "      <td>...</td>\n",
              "      <td>...</td>\n",
              "      <td>...</td>\n",
              "      <td>...</td>\n",
              "      <td>...</td>\n",
              "      <td>...</td>\n",
              "      <td>...</td>\n",
              "      <td>...</td>\n",
              "      <td>...</td>\n",
              "      <td>...</td>\n",
              "      <td>...</td>\n",
              "      <td>...</td>\n",
              "      <td>...</td>\n",
              "      <td>...</td>\n",
              "      <td>...</td>\n",
              "      <td>...</td>\n",
              "      <td>...</td>\n",
              "      <td>...</td>\n",
              "      <td>...</td>\n",
              "      <td>...</td>\n",
              "      <td>...</td>\n",
              "      <td>...</td>\n",
              "      <td>...</td>\n",
              "      <td>...</td>\n",
              "      <td>...</td>\n",
              "      <td>...</td>\n",
              "      <td>...</td>\n",
              "      <td>...</td>\n",
              "      <td>...</td>\n",
              "      <td>...</td>\n",
              "      <td>...</td>\n",
              "      <td>...</td>\n",
              "    </tr>\n",
              "    <tr>\n",
              "      <th>1017</th>\n",
              "      <td>C1229</td>\n",
              "      <td>10.023748</td>\n",
              "      <td>4.891838</td>\n",
              "      <td>5.914940</td>\n",
              "      <td>4.071754</td>\n",
              "      <td>81.579507</td>\n",
              "      <td>31.881458</td>\n",
              "      <td>0.0</td>\n",
              "      <td>1.194318</td>\n",
              "      <td>9.15575</td>\n",
              "      <td>0.193854</td>\n",
              "      <td>0.141314</td>\n",
              "      <td>0.117649</td>\n",
              "      <td>0</td>\n",
              "      <td>1</td>\n",
              "      <td>0</td>\n",
              "      <td>0</td>\n",
              "      <td>0</td>\n",
              "      <td>0</td>\n",
              "      <td>0</td>\n",
              "      <td>0</td>\n",
              "      <td>0</td>\n",
              "      <td>0</td>\n",
              "      <td>0</td>\n",
              "      <td>1</td>\n",
              "      <td>0</td>\n",
              "      <td>0</td>\n",
              "      <td>0</td>\n",
              "      <td>0</td>\n",
              "      <td>0</td>\n",
              "      <td>0</td>\n",
              "      <td>0</td>\n",
              "      <td>0</td>\n",
              "      <td>0</td>\n",
              "      <td>0</td>\n",
              "      <td>0</td>\n",
              "      <td>0</td>\n",
              "      <td>0</td>\n",
              "      <td>0</td>\n",
              "      <td>0</td>\n",
              "      <td>1</td>\n",
              "      <td>0</td>\n",
              "      <td>0</td>\n",
              "      <td>0</td>\n",
              "      <td>0</td>\n",
              "      <td>0</td>\n",
              "      <td>0</td>\n",
              "      <td>0</td>\n",
              "      <td>0</td>\n",
              "      <td>0</td>\n",
              "      <td>1</td>\n",
              "      <td>0</td>\n",
              "      <td>0</td>\n",
              "      <td>0</td>\n",
              "      <td>0</td>\n",
              "      <td>0</td>\n",
              "    </tr>\n",
              "    <tr>\n",
              "      <th>1018</th>\n",
              "      <td>C1229</td>\n",
              "      <td>10.023748</td>\n",
              "      <td>4.891838</td>\n",
              "      <td>2.602594</td>\n",
              "      <td>4.071754</td>\n",
              "      <td>81.579507</td>\n",
              "      <td>31.881458</td>\n",
              "      <td>0.0</td>\n",
              "      <td>1.194318</td>\n",
              "      <td>9.15575</td>\n",
              "      <td>0.193854</td>\n",
              "      <td>0.141314</td>\n",
              "      <td>0.117649</td>\n",
              "      <td>0</td>\n",
              "      <td>1</td>\n",
              "      <td>0</td>\n",
              "      <td>0</td>\n",
              "      <td>0</td>\n",
              "      <td>0</td>\n",
              "      <td>0</td>\n",
              "      <td>0</td>\n",
              "      <td>0</td>\n",
              "      <td>0</td>\n",
              "      <td>0</td>\n",
              "      <td>1</td>\n",
              "      <td>0</td>\n",
              "      <td>0</td>\n",
              "      <td>0</td>\n",
              "      <td>0</td>\n",
              "      <td>0</td>\n",
              "      <td>0</td>\n",
              "      <td>0</td>\n",
              "      <td>0</td>\n",
              "      <td>0</td>\n",
              "      <td>0</td>\n",
              "      <td>0</td>\n",
              "      <td>0</td>\n",
              "      <td>0</td>\n",
              "      <td>0</td>\n",
              "      <td>0</td>\n",
              "      <td>1</td>\n",
              "      <td>0</td>\n",
              "      <td>0</td>\n",
              "      <td>0</td>\n",
              "      <td>0</td>\n",
              "      <td>0</td>\n",
              "      <td>0</td>\n",
              "      <td>0</td>\n",
              "      <td>0</td>\n",
              "      <td>0</td>\n",
              "      <td>1</td>\n",
              "      <td>0</td>\n",
              "      <td>0</td>\n",
              "      <td>0</td>\n",
              "      <td>0</td>\n",
              "      <td>0</td>\n",
              "    </tr>\n",
              "    <tr>\n",
              "      <th>1019</th>\n",
              "      <td>C1229</td>\n",
              "      <td>10.023748</td>\n",
              "      <td>4.894048</td>\n",
              "      <td>1.540963</td>\n",
              "      <td>4.071754</td>\n",
              "      <td>81.579507</td>\n",
              "      <td>31.881458</td>\n",
              "      <td>0.0</td>\n",
              "      <td>1.194318</td>\n",
              "      <td>9.15575</td>\n",
              "      <td>0.193854</td>\n",
              "      <td>0.141314</td>\n",
              "      <td>0.117649</td>\n",
              "      <td>0</td>\n",
              "      <td>1</td>\n",
              "      <td>0</td>\n",
              "      <td>0</td>\n",
              "      <td>0</td>\n",
              "      <td>0</td>\n",
              "      <td>0</td>\n",
              "      <td>0</td>\n",
              "      <td>0</td>\n",
              "      <td>0</td>\n",
              "      <td>0</td>\n",
              "      <td>1</td>\n",
              "      <td>0</td>\n",
              "      <td>0</td>\n",
              "      <td>0</td>\n",
              "      <td>0</td>\n",
              "      <td>0</td>\n",
              "      <td>0</td>\n",
              "      <td>0</td>\n",
              "      <td>0</td>\n",
              "      <td>0</td>\n",
              "      <td>0</td>\n",
              "      <td>0</td>\n",
              "      <td>0</td>\n",
              "      <td>0</td>\n",
              "      <td>0</td>\n",
              "      <td>0</td>\n",
              "      <td>1</td>\n",
              "      <td>0</td>\n",
              "      <td>0</td>\n",
              "      <td>0</td>\n",
              "      <td>0</td>\n",
              "      <td>0</td>\n",
              "      <td>0</td>\n",
              "      <td>0</td>\n",
              "      <td>0</td>\n",
              "      <td>0</td>\n",
              "      <td>1</td>\n",
              "      <td>0</td>\n",
              "      <td>0</td>\n",
              "      <td>0</td>\n",
              "      <td>0</td>\n",
              "      <td>0</td>\n",
              "    </tr>\n",
              "    <tr>\n",
              "      <th>1020</th>\n",
              "      <td>C1229</td>\n",
              "      <td>10.023748</td>\n",
              "      <td>4.895373</td>\n",
              "      <td>1.820334</td>\n",
              "      <td>4.071754</td>\n",
              "      <td>81.579507</td>\n",
              "      <td>31.881458</td>\n",
              "      <td>0.0</td>\n",
              "      <td>1.194318</td>\n",
              "      <td>9.15575</td>\n",
              "      <td>0.193854</td>\n",
              "      <td>0.141314</td>\n",
              "      <td>0.117649</td>\n",
              "      <td>0</td>\n",
              "      <td>1</td>\n",
              "      <td>0</td>\n",
              "      <td>0</td>\n",
              "      <td>0</td>\n",
              "      <td>0</td>\n",
              "      <td>0</td>\n",
              "      <td>0</td>\n",
              "      <td>0</td>\n",
              "      <td>0</td>\n",
              "      <td>0</td>\n",
              "      <td>1</td>\n",
              "      <td>0</td>\n",
              "      <td>0</td>\n",
              "      <td>0</td>\n",
              "      <td>0</td>\n",
              "      <td>0</td>\n",
              "      <td>0</td>\n",
              "      <td>0</td>\n",
              "      <td>0</td>\n",
              "      <td>0</td>\n",
              "      <td>0</td>\n",
              "      <td>0</td>\n",
              "      <td>0</td>\n",
              "      <td>0</td>\n",
              "      <td>0</td>\n",
              "      <td>0</td>\n",
              "      <td>1</td>\n",
              "      <td>0</td>\n",
              "      <td>0</td>\n",
              "      <td>0</td>\n",
              "      <td>0</td>\n",
              "      <td>0</td>\n",
              "      <td>0</td>\n",
              "      <td>0</td>\n",
              "      <td>0</td>\n",
              "      <td>0</td>\n",
              "      <td>1</td>\n",
              "      <td>0</td>\n",
              "      <td>0</td>\n",
              "      <td>0</td>\n",
              "      <td>0</td>\n",
              "      <td>0</td>\n",
              "    </tr>\n",
              "    <tr>\n",
              "      <th>1021</th>\n",
              "      <td>C1229</td>\n",
              "      <td>10.023748</td>\n",
              "      <td>5.134354</td>\n",
              "      <td>4.492018</td>\n",
              "      <td>4.071754</td>\n",
              "      <td>83.199869</td>\n",
              "      <td>32.589376</td>\n",
              "      <td>0.0</td>\n",
              "      <td>1.194318</td>\n",
              "      <td>9.15575</td>\n",
              "      <td>0.193854</td>\n",
              "      <td>0.141314</td>\n",
              "      <td>0.117649</td>\n",
              "      <td>0</td>\n",
              "      <td>1</td>\n",
              "      <td>0</td>\n",
              "      <td>0</td>\n",
              "      <td>0</td>\n",
              "      <td>0</td>\n",
              "      <td>0</td>\n",
              "      <td>0</td>\n",
              "      <td>0</td>\n",
              "      <td>0</td>\n",
              "      <td>0</td>\n",
              "      <td>1</td>\n",
              "      <td>0</td>\n",
              "      <td>0</td>\n",
              "      <td>0</td>\n",
              "      <td>0</td>\n",
              "      <td>0</td>\n",
              "      <td>0</td>\n",
              "      <td>0</td>\n",
              "      <td>0</td>\n",
              "      <td>0</td>\n",
              "      <td>0</td>\n",
              "      <td>0</td>\n",
              "      <td>0</td>\n",
              "      <td>0</td>\n",
              "      <td>0</td>\n",
              "      <td>0</td>\n",
              "      <td>1</td>\n",
              "      <td>0</td>\n",
              "      <td>0</td>\n",
              "      <td>0</td>\n",
              "      <td>0</td>\n",
              "      <td>0</td>\n",
              "      <td>0</td>\n",
              "      <td>0</td>\n",
              "      <td>0</td>\n",
              "      <td>0</td>\n",
              "      <td>1</td>\n",
              "      <td>0</td>\n",
              "      <td>0</td>\n",
              "      <td>0</td>\n",
              "      <td>0</td>\n",
              "      <td>0</td>\n",
              "    </tr>\n",
              "  </tbody>\n",
              "</table>\n",
              "<p>3974 rows × 56 columns</p>\n",
              "</div>"
            ],
            "text/plain": [
              "       단지코드       총세대수      전용면적  전용면적별세대수  ...  자격유형_L  자격유형_M  자격유형_N  자격유형_O\n",
              "0     C2483  11.831022  4.957984  7.247551  ...       0       0       0       0\n",
              "1     C2483  11.831022  4.957984  3.438110  ...       0       0       0       0\n",
              "2     C2483  11.831022  5.424384  9.622424  ...       0       0       0       0\n",
              "3     C2483  11.831022  5.424384  3.438110  ...       0       0       0       0\n",
              "4     C2483  11.831022  5.424384  5.012077  ...       0       0       0       0\n",
              "...     ...        ...       ...       ...  ...     ...     ...     ...     ...\n",
              "1017  C1229  10.023748  4.891838  5.914940  ...       0       0       0       0\n",
              "1018  C1229  10.023748  4.891838  2.602594  ...       0       0       0       0\n",
              "1019  C1229  10.023748  4.894048  1.540963  ...       0       0       0       0\n",
              "1020  C1229  10.023748  4.895373  1.820334  ...       0       0       0       0\n",
              "1021  C1229  10.023748  5.134354  4.492018  ...       0       0       0       0\n",
              "\n",
              "[3974 rows x 56 columns]"
            ]
          },
          "metadata": {
            "tags": []
          },
          "execution_count": 35
        }
      ]
    },
    {
      "cell_type": "markdown",
      "metadata": {
        "id": "nunxAUxpiobr"
      },
      "source": [
        "j.중요 변수 확인 "
      ]
    },
    {
      "cell_type": "code",
      "metadata": {
        "id": "qfJcPpTziUVO"
      },
      "source": [
        "new_train = df[:train.shape[0]]\n",
        "new_train = pd.concat([new_train,target], axis=1, sort=False)\n",
        "new_test = df[train.shape[0]:]"
      ],
      "execution_count": null,
      "outputs": []
    },
    {
      "cell_type": "code",
      "metadata": {
        "colab": {
          "base_uri": "https://localhost:8080/",
          "height": 885
        },
        "id": "WfvAGGTUEK8w",
        "outputId": "dd524b62-50e8-4ad1-f2b5-f03f9ed38e7c"
      },
      "source": [
        "corr_new_train = new_train.corr()\n",
        "plt.figure(figsize=(5,15))\n",
        "sns.heatmap(corr_new_train[['등록차량수']].sort_values(by=['등록차량수'],\n",
        "                                ascending=False).head(30),annot=True)"
      ],
      "execution_count": null,
      "outputs": [
        {
          "output_type": "execute_result",
          "data": {
            "text/plain": [
              "<matplotlib.axes._subplots.AxesSubplot at 0x7fa76e5b6e90>"
            ]
          },
          "metadata": {
            "tags": []
          },
          "execution_count": 37
        },
        {
          "output_type": "display_data",
          "data": {
            "image/png": "[encoded data removed]",
            "text/plain": [
              "<Figure size 360x1080 with 2 Axes>"
            ]
          },
          "metadata": {
            "tags": [],
            "needs_background": "light"
          }
        }
      ]
    },
    {
      "cell_type": "code",
      "metadata": {
        "id": "B8PBls91izkt"
      },
      "source": [
        "col_corr_dict = corr_new_train['등록차량수'].sort_values(ascending=False).to_dict()"
      ],
      "execution_count": null,
      "outputs": []
    },
    {
      "cell_type": "code",
      "metadata": {
        "colab": {
          "base_uri": "https://localhost:8080/"
        },
        "id": "mqQZFOOGjGef",
        "outputId": "3486052e-6ec3-4691-cd8d-7b2c225c9090"
      },
      "source": [
        "best_columns=[]\n",
        "for key,value in col_corr_dict.items():\n",
        "    if ((value>=0.2) & (value<0.9)) | (value<=-0.2):\n",
        "        best_columns.append(key)\n",
        "print(len(best_columns))"
      ],
      "execution_count": null,
      "outputs": [
        {
          "output_type": "stream",
          "text": [
            "20\n"
          ],
          "name": "stdout"
        }
      ]
    },
    {
      "cell_type": "markdown",
      "metadata": {
        "id": "G9yXvyCTjb31"
      },
      "source": [
        "상관성이 큰 변수들을 20개 찾아주었습니다"
      ]
    },
    {
      "cell_type": "code",
      "metadata": {
        "id": "XC9smTHCjZx1"
      },
      "source": [
        "new_train = new_train.drop(['등록차량수'], axis=1)\n",
        "new_train = new_train.drop(['단지코드'], axis=1)\n",
        "new_test = new_test.drop(['단지코드'], axis=1)"
      ],
      "execution_count": null,
      "outputs": []
    },
    {
      "cell_type": "code",
      "metadata": {
        "id": "SpEK12pLjLql"
      },
      "source": [
        "final_train = new_train[best_columns]\n",
        "final_test = new_test[best_columns]\n",
        "final_num = list(final_train.columns)"
      ],
      "execution_count": null,
      "outputs": []
    },
    {
      "cell_type": "code",
      "metadata": {
        "colab": {
          "base_uri": "https://localhost:8080/",
          "height": 1000
        },
        "id": "q2my3DJLlTKP",
        "outputId": "ef70a23a-a4ab-4b07-b525-91c7f1cfa7a0"
      },
      "source": [
        "row = 5\n",
        "col = 4\n",
        "\n",
        "fig, axs = plt.subplots(row,col, figsize = (20,60))\n",
        "fig.subplots_adjust(hspace=0.8)\n",
        "\n",
        "for r in range(0,row):\n",
        "    for c in range(0,col):\n",
        "        i = r*col + c\n",
        "        if i < len(best_columns):\n",
        "            sns.regplot(final_train[final_num[i]],target,fit_reg=True,marker='o', ax = axs[r][c])"
      ],
      "execution_count": null,
      "outputs": [
        {
          "output_type": "display_data",
          "data": {
            "image/png": "[encoded data removed]",
            "text/plain": [
              "<Figure size 1440x4320 with 20 Axes>"
            ]
          },
          "metadata": {
            "tags": [],
            "needs_background": "light"
          }
        }
      ]
    },
    {
      "cell_type": "markdown",
      "metadata": {
        "id": "vED-OMF5lc9m"
      },
      "source": [
        "**III. 모델링**"
      ]
    },
    {
      "cell_type": "code",
      "metadata": {
        "id": "nDEC09C7lVVo"
      },
      "source": [
        "from sklearn.model_selection import KFold, cross_val_score, GridSearchCV\n",
        "from sklearn.metrics import mean_squared_error\n",
        "from sklearn.pipeline import make_pipeline\n",
        "from sklearn.ensemble import RandomForestRegressor, GradientBoostingRegressor\n",
        "from xgboost import XGBRegressor\n",
        "from lightgbm import LGBMRegressor\n",
        "from sklearn.linear_model import ElasticNet, Lasso, LinearRegression"
      ],
      "execution_count": null,
      "outputs": []
    },
    {
      "cell_type": "markdown",
      "metadata": {
        "id": "6xFelVYt5oOp"
      },
      "source": [
        "0단계: Robust 스케일링/ 훈련&테스트 세트 분할"
      ]
    },
    {
      "cell_type": "code",
      "metadata": {
        "id": "TAnwv731lg1n",
        "colab": {
          "base_uri": "https://localhost:8080/"
        },
        "outputId": "8e2fb069-96ab-44b0-d549-055bceba9728"
      },
      "source": [
        "from sklearn.preprocessing import RobustScaler\n",
        "\n",
        "rbst_scaler=RobustScaler()\n",
        "x_rbst=rbst_scaler.fit_transform(new_train)\n",
        "test_rbst=rbst_scaler.transform(new_test)\n",
        "\n",
        "from sklearn.model_selection import train_test_split\n",
        "\n",
        "#훈련-테스트 분할// 분류문제가 아니므로 stratify=y 설정은 뺀다.\n",
        "x_train_all, x_test, y_train_all, y_test = train_test_split(x_rbst, target, test_size=0.2, random_state=42)\n",
        "\n",
        "print(len(x_train_all))\n",
        "print(len(x_test))\n",
        "print(len(y_train_all))\n",
        "print(len(y_test))"
      ],
      "execution_count": null,
      "outputs": [
        {
          "output_type": "stream",
          "text": [
            "2361\n",
            "591\n",
            "2361\n",
            "591\n"
          ],
          "name": "stdout"
        }
      ]
    },
    {
      "cell_type": "markdown",
      "metadata": {
        "id": "aHt6TBb-59F4"
      },
      "source": [
        "a 단계: 단순선형 회귀"
      ]
    },
    {
      "cell_type": "code",
      "metadata": {
        "id": "W844RRvGlgsD",
        "colab": {
          "base_uri": "https://localhost:8080/",
          "height": 1000
        },
        "outputId": "b3d471fd-ecdd-4ebc-8012-d5f146052f2a"
      },
      "source": [
        "import statsmodels.api as sm\n",
        "\n",
        "model = sm.OLS(target.values, new_train)\n",
        "re = model.fit()\n",
        "re.summary()"
      ],
      "execution_count": null,
      "outputs": [
        {
          "output_type": "execute_result",
          "data": {
            "text/html": [
              "<table class=\"simpletable\">\n",
              "<caption>OLS Regression Results</caption>\n",
              "<tr>\n",
              "  <th>Dep. Variable:</th>            <td>y</td>        <th>  R-squared:         </th> <td>   0.866</td>\n",
              "</tr>\n",
              "<tr>\n",
              "  <th>Model:</th>                   <td>OLS</td>       <th>  Adj. R-squared:    </th> <td>   0.864</td>\n",
              "</tr>\n",
              "<tr>\n",
              "  <th>Method:</th>             <td>Least Squares</td>  <th>  F-statistic:       </th> <td>   417.6</td>\n",
              "</tr>\n",
              "<tr>\n",
              "  <th>Date:</th>             <td>Tue, 03 Aug 2021</td> <th>  Prob (F-statistic):</th>  <td>  0.00</td> \n",
              "</tr>\n",
              "<tr>\n",
              "  <th>Time:</th>                 <td>09:55:24</td>     <th>  Log-Likelihood:    </th> <td> -871.73</td>\n",
              "</tr>\n",
              "<tr>\n",
              "  <th>No. Observations:</th>      <td>  2952</td>      <th>  AIC:               </th> <td>   1835.</td>\n",
              "</tr>\n",
              "<tr>\n",
              "  <th>Df Residuals:</th>          <td>  2906</td>      <th>  BIC:               </th> <td>   2111.</td>\n",
              "</tr>\n",
              "<tr>\n",
              "  <th>Df Model:</th>              <td>    45</td>      <th>                     </th>     <td> </td>   \n",
              "</tr>\n",
              "<tr>\n",
              "  <th>Covariance Type:</th>      <td>nonrobust</td>    <th>                     </th>     <td> </td>   \n",
              "</tr>\n",
              "</table>\n",
              "<table class=\"simpletable\">\n",
              "<tr>\n",
              "                <td></td>                  <th>coef</th>     <th>std err</th>      <th>t</th>      <th>P>|t|</th>  <th>[0.025</th>    <th>0.975]</th>  \n",
              "</tr>\n",
              "<tr>\n",
              "  <th>총세대수</th>                         <td>    0.1217</td> <td>    0.012</td> <td>    9.965</td> <td> 0.000</td> <td>    0.098</td> <td>    0.146</td>\n",
              "</tr>\n",
              "<tr>\n",
              "  <th>전용면적</th>                         <td>   -0.0086</td> <td>    0.012</td> <td>   -0.709</td> <td> 0.478</td> <td>   -0.032</td> <td>    0.015</td>\n",
              "</tr>\n",
              "<tr>\n",
              "  <th>전용면적별세대수</th>                     <td>    0.0051</td> <td>    0.004</td> <td>    1.376</td> <td> 0.169</td> <td>   -0.002</td> <td>    0.012</td>\n",
              "</tr>\n",
              "<tr>\n",
              "  <th>공가수</th>                          <td>   -0.0254</td> <td>    0.006</td> <td>   -4.299</td> <td> 0.000</td> <td>   -0.037</td> <td>   -0.014</td>\n",
              "</tr>\n",
              "<tr>\n",
              "  <th>임대보증금</th>                        <td>    0.0071</td> <td>    0.002</td> <td>    3.406</td> <td> 0.001</td> <td>    0.003</td> <td>    0.011</td>\n",
              "</tr>\n",
              "<tr>\n",
              "  <th>임대료</th>                          <td>    0.0118</td> <td>    0.005</td> <td>    2.424</td> <td> 0.015</td> <td>    0.002</td> <td>    0.021</td>\n",
              "</tr>\n",
              "<tr>\n",
              "  <th>도보 10분거리 내 지하철역 수(환승노선 수 반영)</th> <td>   -0.1778</td> <td>    0.027</td> <td>   -6.595</td> <td> 0.000</td> <td>   -0.231</td> <td>   -0.125</td>\n",
              "</tr>\n",
              "<tr>\n",
              "  <th>도보 10분거리 내 버스정류장 수</th>           <td>    0.0824</td> <td>    0.012</td> <td>    7.083</td> <td> 0.000</td> <td>    0.060</td> <td>    0.105</td>\n",
              "</tr>\n",
              "<tr>\n",
              "  <th>단지내주차면수</th>                      <td>    0.2161</td> <td>    0.012</td> <td>   18.084</td> <td> 0.000</td> <td>    0.193</td> <td>    0.239</td>\n",
              "</tr>\n",
              "<tr>\n",
              "  <th>해당 지역 30대 비율</th>                 <td>    0.1316</td> <td>    0.018</td> <td>    7.155</td> <td> 0.000</td> <td>    0.096</td> <td>    0.168</td>\n",
              "</tr>\n",
              "<tr>\n",
              "  <th>해당 지역 40대 비율</th>                 <td>    0.1738</td> <td>    0.020</td> <td>    8.509</td> <td> 0.000</td> <td>    0.134</td> <td>    0.214</td>\n",
              "</tr>\n",
              "<tr>\n",
              "  <th>해당 지역 50대 비율</th>                 <td>    0.1803</td> <td>    0.021</td> <td>    8.462</td> <td> 0.000</td> <td>    0.139</td> <td>    0.222</td>\n",
              "</tr>\n",
              "<tr>\n",
              "  <th>임대건물구분_상가</th>                    <td>   -0.0050</td> <td>    0.055</td> <td>   -0.091</td> <td> 0.927</td> <td>   -0.112</td> <td>    0.102</td>\n",
              "</tr>\n",
              "<tr>\n",
              "  <th>임대건물구분_아파트</th>                   <td>    1.2314</td> <td>    0.106</td> <td>   11.624</td> <td> 0.000</td> <td>    1.024</td> <td>    1.439</td>\n",
              "</tr>\n",
              "<tr>\n",
              "  <th>지역_강원도</th>                       <td>    0.0964</td> <td>    0.027</td> <td>    3.581</td> <td> 0.000</td> <td>    0.044</td> <td>    0.149</td>\n",
              "</tr>\n",
              "<tr>\n",
              "  <th>지역_경기도</th>                       <td>    0.0879</td> <td>    0.022</td> <td>    4.009</td> <td> 0.000</td> <td>    0.045</td> <td>    0.131</td>\n",
              "</tr>\n",
              "<tr>\n",
              "  <th>지역_경상남도</th>                      <td>   -0.0236</td> <td>    0.020</td> <td>   -1.172</td> <td> 0.241</td> <td>   -0.063</td> <td>    0.016</td>\n",
              "</tr>\n",
              "<tr>\n",
              "  <th>지역_경상북도</th>                      <td>    0.2404</td> <td>    0.031</td> <td>    7.795</td> <td> 0.000</td> <td>    0.180</td> <td>    0.301</td>\n",
              "</tr>\n",
              "<tr>\n",
              "  <th>지역_광주광역시</th>                     <td>    0.2420</td> <td>    0.030</td> <td>    8.095</td> <td> 0.000</td> <td>    0.183</td> <td>    0.301</td>\n",
              "</tr>\n",
              "<tr>\n",
              "  <th>지역_대구광역시</th>                     <td>    0.2475</td> <td>    0.035</td> <td>    7.070</td> <td> 0.000</td> <td>    0.179</td> <td>    0.316</td>\n",
              "</tr>\n",
              "<tr>\n",
              "  <th>지역_대전광역시</th>                     <td>   -0.1561</td> <td>    0.029</td> <td>   -5.439</td> <td> 0.000</td> <td>   -0.212</td> <td>   -0.100</td>\n",
              "</tr>\n",
              "<tr>\n",
              "  <th>지역_부산광역시</th>                     <td>    0.0795</td> <td>    0.030</td> <td>    2.683</td> <td> 0.007</td> <td>    0.021</td> <td>    0.138</td>\n",
              "</tr>\n",
              "<tr>\n",
              "  <th>지역_서울특별시</th>                     <td>    0.0370</td> <td>    0.052</td> <td>    0.708</td> <td> 0.479</td> <td>   -0.065</td> <td>    0.139</td>\n",
              "</tr>\n",
              "<tr>\n",
              "  <th>지역_세종특별자치시</th>                   <td>   -0.0514</td> <td>    0.054</td> <td>   -0.959</td> <td> 0.338</td> <td>   -0.156</td> <td>    0.054</td>\n",
              "</tr>\n",
              "<tr>\n",
              "  <th>지역_울산광역시</th>                     <td>   -0.0581</td> <td>    0.054</td> <td>   -1.075</td> <td> 0.282</td> <td>   -0.164</td> <td>    0.048</td>\n",
              "</tr>\n",
              "<tr>\n",
              "  <th>지역_전라남도</th>                      <td>    0.0773</td> <td>    0.027</td> <td>    2.821</td> <td> 0.005</td> <td>    0.024</td> <td>    0.131</td>\n",
              "</tr>\n",
              "<tr>\n",
              "  <th>지역_전라북도</th>                      <td>    0.0858</td> <td>    0.032</td> <td>    2.677</td> <td> 0.007</td> <td>    0.023</td> <td>    0.149</td>\n",
              "</tr>\n",
              "<tr>\n",
              "  <th>지역_제주특별자치도</th>                   <td>    0.1297</td> <td>    0.035</td> <td>    3.668</td> <td> 0.000</td> <td>    0.060</td> <td>    0.199</td>\n",
              "</tr>\n",
              "<tr>\n",
              "  <th>지역_충청남도</th>                      <td>    0.1245</td> <td>    0.028</td> <td>    4.424</td> <td> 0.000</td> <td>    0.069</td> <td>    0.180</td>\n",
              "</tr>\n",
              "<tr>\n",
              "  <th>지역_충청북도</th>                      <td>    0.0677</td> <td>    0.027</td> <td>    2.496</td> <td> 0.013</td> <td>    0.015</td> <td>    0.121</td>\n",
              "</tr>\n",
              "<tr>\n",
              "  <th>공급유형_공공분양</th>                    <td>    0.5549</td> <td>    0.075</td> <td>    7.432</td> <td> 0.000</td> <td>    0.408</td> <td>    0.701</td>\n",
              "</tr>\n",
              "<tr>\n",
              "  <th>공급유형_공공임대(10년)</th>               <td>    0.2137</td> <td>    0.057</td> <td>    3.727</td> <td> 0.000</td> <td>    0.101</td> <td>    0.326</td>\n",
              "</tr>\n",
              "<tr>\n",
              "  <th>공급유형_공공임대(50년)</th>               <td>   -0.2368</td> <td>    0.074</td> <td>   -3.187</td> <td> 0.001</td> <td>   -0.382</td> <td>   -0.091</td>\n",
              "</tr>\n",
              "<tr>\n",
              "  <th>공급유형_공공임대(5년)</th>                <td>    0.6002</td> <td>    0.175</td> <td>    3.428</td> <td> 0.001</td> <td>    0.257</td> <td>    0.944</td>\n",
              "</tr>\n",
              "<tr>\n",
              "  <th>공급유형_공공임대(분납)</th>                <td>    0.2104</td> <td>    0.103</td> <td>    2.049</td> <td> 0.041</td> <td>    0.009</td> <td>    0.412</td>\n",
              "</tr>\n",
              "<tr>\n",
              "  <th>공급유형_국민임대</th>                    <td>    0.0157</td> <td>    0.045</td> <td>    0.347</td> <td> 0.728</td> <td>   -0.073</td> <td>    0.104</td>\n",
              "</tr>\n",
              "<tr>\n",
              "  <th>공급유형_영구임대</th>                    <td>   -0.2305</td> <td>    0.128</td> <td>   -1.801</td> <td> 0.072</td> <td>   -0.481</td> <td>    0.020</td>\n",
              "</tr>\n",
              "<tr>\n",
              "  <th>공급유형_임대상가</th>                    <td>   -0.0050</td> <td>    0.055</td> <td>   -0.091</td> <td> 0.927</td> <td>   -0.112</td> <td>    0.102</td>\n",
              "</tr>\n",
              "<tr>\n",
              "  <th>공급유형_장기전세</th>                    <td>    0.2118</td> <td>    0.121</td> <td>    1.743</td> <td> 0.081</td> <td>   -0.026</td> <td>    0.450</td>\n",
              "</tr>\n",
              "<tr>\n",
              "  <th>공급유형_행복주택</th>                    <td>   -0.1080</td> <td>    0.066</td> <td>   -1.630</td> <td> 0.103</td> <td>   -0.238</td> <td>    0.022</td>\n",
              "</tr>\n",
              "<tr>\n",
              "  <th>자격유형_A</th>                       <td>    0.2858</td> <td>    0.061</td> <td>    4.719</td> <td> 0.000</td> <td>    0.167</td> <td>    0.405</td>\n",
              "</tr>\n",
              "<tr>\n",
              "  <th>자격유형_B</th>                       <td>    0.3095</td> <td>    0.089</td> <td>    3.486</td> <td> 0.000</td> <td>    0.135</td> <td>    0.484</td>\n",
              "</tr>\n",
              "<tr>\n",
              "  <th>자격유형_C</th>                       <td>   -0.3200</td> <td>    0.111</td> <td>   -2.890</td> <td> 0.004</td> <td>   -0.537</td> <td>   -0.103</td>\n",
              "</tr>\n",
              "<tr>\n",
              "  <th>자격유형_D</th>                       <td>    0.5499</td> <td>    0.060</td> <td>    9.136</td> <td> 0.000</td> <td>    0.432</td> <td>    0.668</td>\n",
              "</tr>\n",
              "<tr>\n",
              "  <th>자격유형_E</th>                       <td>    0.0045</td> <td>    0.094</td> <td>    0.048</td> <td> 0.962</td> <td>   -0.180</td> <td>    0.189</td>\n",
              "</tr>\n",
              "<tr>\n",
              "  <th>자격유형_F</th>                       <td>   -0.3239</td> <td>    0.200</td> <td>   -1.620</td> <td> 0.105</td> <td>   -0.716</td> <td>    0.068</td>\n",
              "</tr>\n",
              "<tr>\n",
              "  <th>자격유형_G</th>                       <td>   -0.0443</td> <td>    0.118</td> <td>   -0.377</td> <td> 0.706</td> <td>   -0.275</td> <td>    0.186</td>\n",
              "</tr>\n",
              "<tr>\n",
              "  <th>자격유형_H</th>                       <td>    0.2093</td> <td>    0.066</td> <td>    3.155</td> <td> 0.002</td> <td>    0.079</td> <td>    0.339</td>\n",
              "</tr>\n",
              "<tr>\n",
              "  <th>자격유형_I</th>                       <td>    0.6636</td> <td>    0.112</td> <td>    5.904</td> <td> 0.000</td> <td>    0.443</td> <td>    0.884</td>\n",
              "</tr>\n",
              "<tr>\n",
              "  <th>자격유형_J</th>                       <td>    0.0295</td> <td>    0.067</td> <td>    0.438</td> <td> 0.662</td> <td>   -0.103</td> <td>    0.162</td>\n",
              "</tr>\n",
              "<tr>\n",
              "  <th>자격유형_K</th>                       <td>    0.1333</td> <td>    0.090</td> <td>    1.482</td> <td> 0.138</td> <td>   -0.043</td> <td>    0.310</td>\n",
              "</tr>\n",
              "<tr>\n",
              "  <th>자격유형_L</th>                       <td>   -0.0299</td> <td>    0.079</td> <td>   -0.378</td> <td> 0.705</td> <td>   -0.185</td> <td>    0.125</td>\n",
              "</tr>\n",
              "<tr>\n",
              "  <th>자격유형_M</th>                       <td>   -0.0431</td> <td>    0.206</td> <td>   -0.210</td> <td> 0.834</td> <td>   -0.446</td> <td>    0.360</td>\n",
              "</tr>\n",
              "<tr>\n",
              "  <th>자격유형_N</th>                       <td>   -0.0106</td> <td>    0.080</td> <td>   -0.132</td> <td> 0.895</td> <td>   -0.168</td> <td>    0.147</td>\n",
              "</tr>\n",
              "<tr>\n",
              "  <th>자격유형_O</th>                       <td>   -0.1873</td> <td>    0.284</td> <td>   -0.660</td> <td> 0.509</td> <td>   -0.743</td> <td>    0.369</td>\n",
              "</tr>\n",
              "</table>\n",
              "<table class=\"simpletable\">\n",
              "<tr>\n",
              "  <th>Omnibus:</th>       <td>450.176</td> <th>  Durbin-Watson:     </th> <td>   0.317</td>\n",
              "</tr>\n",
              "<tr>\n",
              "  <th>Prob(Omnibus):</th> <td> 0.000</td>  <th>  Jarque-Bera (JB):  </th> <td>2217.307</td>\n",
              "</tr>\n",
              "<tr>\n",
              "  <th>Skew:</th>          <td>-0.640</td>  <th>  Prob(JB):          </th> <td>    0.00</td>\n",
              "</tr>\n",
              "<tr>\n",
              "  <th>Kurtosis:</th>      <td> 7.048</td>  <th>  Cond. No.          </th> <td>1.02e+16</td>\n",
              "</tr>\n",
              "</table><br/><br/>Warnings:<br/>[1] Standard Errors assume that the covariance matrix of the errors is correctly specified.<br/>[2] The smallest eigenvalue is 2.13e-25. This might indicate that there are<br/>strong multicollinearity problems or that the design matrix is singular."
            ],
            "text/plain": [
              "<class 'statsmodels.iolib.summary.Summary'>\n",
              "\"\"\"\n",
              "                            OLS Regression Results                            \n",
              "==============================================================================\n",
              "Dep. Variable:                      y   R-squared:                       0.866\n",
              "Model:                            OLS   Adj. R-squared:                  0.864\n",
              "Method:                 Least Squares   F-statistic:                     417.6\n",
              "Date:                Tue, 03 Aug 2021   Prob (F-statistic):               0.00\n",
              "Time:                        09:55:24   Log-Likelihood:                -871.73\n",
              "No. Observations:                2952   AIC:                             1835.\n",
              "Df Residuals:                    2906   BIC:                             2111.\n",
              "Df Model:                          45                                         \n",
              "Covariance Type:            nonrobust                                         \n",
              "================================================================================================\n",
              "                                   coef    std err          t      P>|t|      [0.025      0.975]\n",
              "------------------------------------------------------------------------------------------------\n",
              "총세대수                             0.1217      0.012      9.965      0.000       0.098       0.146\n",
              "전용면적                            -0.0086      0.012     -0.709      0.478      -0.032       0.015\n",
              "전용면적별세대수                         0.0051      0.004      1.376      0.169      -0.002       0.012\n",
              "공가수                             -0.0254      0.006     -4.299      0.000      -0.037      -0.014\n",
              "임대보증금                            0.0071      0.002      3.406      0.001       0.003       0.011\n",
              "임대료                              0.0118      0.005      2.424      0.015       0.002       0.021\n",
              "도보 10분거리 내 지하철역 수(환승노선 수 반영)    -0.1778      0.027     -6.595      0.000      -0.231      -0.125\n",
              "도보 10분거리 내 버스정류장 수               0.0824      0.012      7.083      0.000       0.060       0.105\n",
              "단지내주차면수                          0.2161      0.012     18.084      0.000       0.193       0.239\n",
              "해당 지역 30대 비율                     0.1316      0.018      7.155      0.000       0.096       0.168\n",
              "해당 지역 40대 비율                     0.1738      0.020      8.509      0.000       0.134       0.214\n",
              "해당 지역 50대 비율                     0.1803      0.021      8.462      0.000       0.139       0.222\n",
              "임대건물구분_상가                       -0.0050      0.055     -0.091      0.927      -0.112       0.102\n",
              "임대건물구분_아파트                       1.2314      0.106     11.624      0.000       1.024       1.439\n",
              "지역_강원도                           0.0964      0.027      3.581      0.000       0.044       0.149\n",
              "지역_경기도                           0.0879      0.022      4.009      0.000       0.045       0.131\n",
              "지역_경상남도                         -0.0236      0.020     -1.172      0.241      -0.063       0.016\n",
              "지역_경상북도                          0.2404      0.031      7.795      0.000       0.180       0.301\n",
              "지역_광주광역시                         0.2420      0.030      8.095      0.000       0.183       0.301\n",
              "지역_대구광역시                         0.2475      0.035      7.070      0.000       0.179       0.316\n",
              "지역_대전광역시                        -0.1561      0.029     -5.439      0.000      -0.212      -0.100\n",
              "지역_부산광역시                         0.0795      0.030      2.683      0.007       0.021       0.138\n",
              "지역_서울특별시                         0.0370      0.052      0.708      0.479      -0.065       0.139\n",
              "지역_세종특별자치시                      -0.0514      0.054     -0.959      0.338      -0.156       0.054\n",
              "지역_울산광역시                        -0.0581      0.054     -1.075      0.282      -0.164       0.048\n",
              "지역_전라남도                          0.0773      0.027      2.821      0.005       0.024       0.131\n",
              "지역_전라북도                          0.0858      0.032      2.677      0.007       0.023       0.149\n",
              "지역_제주특별자치도                       0.1297      0.035      3.668      0.000       0.060       0.199\n",
              "지역_충청남도                          0.1245      0.028      4.424      0.000       0.069       0.180\n",
              "지역_충청북도                          0.0677      0.027      2.496      0.013       0.015       0.121\n",
              "공급유형_공공분양                        0.5549      0.075      7.432      0.000       0.408       0.701\n",
              "공급유형_공공임대(10년)                   0.2137      0.057      3.727      0.000       0.101       0.326\n",
              "공급유형_공공임대(50년)                  -0.2368      0.074     -3.187      0.001      -0.382      -0.091\n",
              "공급유형_공공임대(5년)                    0.6002      0.175      3.428      0.001       0.257       0.944\n",
              "공급유형_공공임대(분납)                    0.2104      0.103      2.049      0.041       0.009       0.412\n",
              "공급유형_국민임대                        0.0157      0.045      0.347      0.728      -0.073       0.104\n",
              "공급유형_영구임대                       -0.2305      0.128     -1.801      0.072      -0.481       0.020\n",
              "공급유형_임대상가                       -0.0050      0.055     -0.091      0.927      -0.112       0.102\n",
              "공급유형_장기전세                        0.2118      0.121      1.743      0.081      -0.026       0.450\n",
              "공급유형_행복주택                       -0.1080      0.066     -1.630      0.103      -0.238       0.022\n",
              "자격유형_A                           0.2858      0.061      4.719      0.000       0.167       0.405\n",
              "자격유형_B                           0.3095      0.089      3.486      0.000       0.135       0.484\n",
              "자격유형_C                          -0.3200      0.111     -2.890      0.004      -0.537      -0.103\n",
              "자격유형_D                           0.5499      0.060      9.136      0.000       0.432       0.668\n",
              "자격유형_E                           0.0045      0.094      0.048      0.962      -0.180       0.189\n",
              "자격유형_F                          -0.3239      0.200     -1.620      0.105      -0.716       0.068\n",
              "자격유형_G                          -0.0443      0.118     -0.377      0.706      -0.275       0.186\n",
              "자격유형_H                           0.2093      0.066      3.155      0.002       0.079       0.339\n",
              "자격유형_I                           0.6636      0.112      5.904      0.000       0.443       0.884\n",
              "자격유형_J                           0.0295      0.067      0.438      0.662      -0.103       0.162\n",
              "자격유형_K                           0.1333      0.090      1.482      0.138      -0.043       0.310\n",
              "자격유형_L                          -0.0299      0.079     -0.378      0.705      -0.185       0.125\n",
              "자격유형_M                          -0.0431      0.206     -0.210      0.834      -0.446       0.360\n",
              "자격유형_N                          -0.0106      0.080     -0.132      0.895      -0.168       0.147\n",
              "자격유형_O                          -0.1873      0.284     -0.660      0.509      -0.743       0.369\n",
              "==============================================================================\n",
              "Omnibus:                      450.176   Durbin-Watson:                   0.317\n",
              "Prob(Omnibus):                  0.000   Jarque-Bera (JB):             2217.307\n",
              "Skew:                          -0.640   Prob(JB):                         0.00\n",
              "Kurtosis:                       7.048   Cond. No.                     1.02e+16\n",
              "==============================================================================\n",
              "\n",
              "Warnings:\n",
              "[1] Standard Errors assume that the covariance matrix of the errors is correctly specified.\n",
              "[2] The smallest eigenvalue is 2.13e-25. This might indicate that there are\n",
              "strong multicollinearity problems or that the design matrix is singular.\n",
              "\"\"\""
            ]
          },
          "metadata": {
            "tags": []
          },
          "execution_count": 45
        }
      ]
    },
    {
      "cell_type": "markdown",
      "metadata": {
        "id": "VEo4_cSr8YCX"
      },
      "source": [
        "b 단계: KFold/ lasso, elastic, random, gradient, xgbr, lgbmr 모두 사용"
      ]
    },
    {
      "cell_type": "code",
      "metadata": {
        "id": "SD7zUeWllgpK"
      },
      "source": [
        "from sklearn.model_selection import GridSearchCV, cross_val_score, StratifiedKFold\n",
        "\n",
        "kfold = KFold(n_splits=4)"
      ],
      "execution_count": null,
      "outputs": []
    },
    {
      "cell_type": "code",
      "metadata": {
        "id": "X-P1uEdalfmR"
      },
      "source": [
        "random_state = 1\n",
        "reg = []\n",
        "\n",
        "reg.append(Lasso(random_state = random_state))\n",
        "reg.append(ElasticNet(random_state = random_state))\n",
        "reg.append(RandomForestRegressor(random_state=random_state))\n",
        "reg.append(GradientBoostingRegressor(random_state=random_state))\n",
        "reg.append(XGBRegressor(silent=True,random_state=random_state))\n",
        "reg.append(LGBMRegressor(verbose_eval=False,random_state = random_state))"
      ],
      "execution_count": null,
      "outputs": []
    },
    {
      "cell_type": "code",
      "metadata": {
        "colab": {
          "base_uri": "https://localhost:8080/"
        },
        "id": "6aFZtnn484Ay",
        "outputId": "bafaa472-635d-46a1-d3ef-2d05514befaa"
      },
      "source": [
        "reg_results = []\n",
        "\n",
        "for regre in reg :\n",
        "    reg_results.append(np.mean(np.sqrt(-cross_val_score(regre, x_train_all, y = y_train_all, scoring = 'neg_mean_squared_error',\n",
        "                                       cv = kfold, n_jobs=-4))))\n",
        "\n",
        "print(reg_results)\n",
        "reg_means = []\n",
        "reg_std = []\n",
        "for reg_result in reg_results:\n",
        "    reg_means.append(reg_result.mean())\n",
        "    reg_std.append(reg_result.std())"
      ],
      "execution_count": null,
      "outputs": [
        {
          "output_type": "stream",
          "text": [
            "[0.8861838066418347, 0.8704829637174548, 0.14553040898598485, 0.2105364445350659, 0.21514478197195008, 0.16120534228365965]\n"
          ],
          "name": "stdout"
        }
      ]
    },
    {
      "cell_type": "code",
      "metadata": {
        "colab": {
          "base_uri": "https://localhost:8080/",
          "height": 235
        },
        "id": "5vBfU3Cn9c3b",
        "outputId": "6bca4589-a6c9-4341-e4ce-674fa1fc22df"
      },
      "source": [
        "reg_re = pd.DataFrame({\"CrossValMeans\":reg_means,\"CrossValerrors\": reg_std})\n",
        "reg_re"
      ],
      "execution_count": null,
      "outputs": [
        {
          "output_type": "execute_result",
          "data": {
            "text/html": [
              "<div>\n",
              "<style scoped>\n",
              "    .dataframe tbody tr th:only-of-type {\n",
              "        vertical-align: middle;\n",
              "    }\n",
              "\n",
              "    .dataframe tbody tr th {\n",
              "        vertical-align: top;\n",
              "    }\n",
              "\n",
              "    .dataframe thead th {\n",
              "        text-align: right;\n",
              "    }\n",
              "</style>\n",
              "<table border=\"1\" class=\"dataframe\">\n",
              "  <thead>\n",
              "    <tr style=\"text-align: right;\">\n",
              "      <th></th>\n",
              "      <th>CrossValMeans</th>\n",
              "      <th>CrossValerrors</th>\n",
              "    </tr>\n",
              "  </thead>\n",
              "  <tbody>\n",
              "    <tr>\n",
              "      <th>0</th>\n",
              "      <td>0.886184</td>\n",
              "      <td>0.0</td>\n",
              "    </tr>\n",
              "    <tr>\n",
              "      <th>1</th>\n",
              "      <td>0.870483</td>\n",
              "      <td>0.0</td>\n",
              "    </tr>\n",
              "    <tr>\n",
              "      <th>2</th>\n",
              "      <td>0.145530</td>\n",
              "      <td>0.0</td>\n",
              "    </tr>\n",
              "    <tr>\n",
              "      <th>3</th>\n",
              "      <td>0.210536</td>\n",
              "      <td>0.0</td>\n",
              "    </tr>\n",
              "    <tr>\n",
              "      <th>4</th>\n",
              "      <td>0.215145</td>\n",
              "      <td>0.0</td>\n",
              "    </tr>\n",
              "    <tr>\n",
              "      <th>5</th>\n",
              "      <td>0.161205</td>\n",
              "      <td>0.0</td>\n",
              "    </tr>\n",
              "  </tbody>\n",
              "</table>\n",
              "</div>"
            ],
            "text/plain": [
              "   CrossValMeans  CrossValerrors\n",
              "0       0.886184             0.0\n",
              "1       0.870483             0.0\n",
              "2       0.145530             0.0\n",
              "3       0.210536             0.0\n",
              "4       0.215145             0.0\n",
              "5       0.161205             0.0"
            ]
          },
          "metadata": {
            "tags": []
          },
          "execution_count": 49
        }
      ]
    },
    {
      "cell_type": "code",
      "metadata": {
        "colab": {
          "base_uri": "https://localhost:8080/"
        },
        "id": "uo4wKJU59hOb",
        "outputId": "792b5c49-4eb8-46ce-aa08-d4530bd34553"
      },
      "source": [
        "# XGBoost 파라미터 튜닝 / 130점 이상\n",
        "\n",
        "XGB = XGBRegressor()\n",
        "xgb_param_grid = {'learning_rate': [1,0.1,0.01,0.001],\n",
        "              'n_estimators': [50, 100, 200, 500, 1000],\n",
        "              'max_depth' : [1,3,5,10,50]}\n",
        "gsXGB = GridSearchCV(XGB,param_grid = xgb_param_grid, cv=kfold, scoring=\"neg_mean_squared_error\", n_jobs= 4, verbose = 1)\n",
        "gsXGB.fit(x_train_all,y_train_all)\n",
        "s = gsXGB.score(x_test, y_test)\n",
        "\n",
        "print(s)\n",
        "# 최고 점수\n",
        "#gsXGB.best_score_"
      ],
      "execution_count": null,
      "outputs": [
        {
          "output_type": "stream",
          "text": [
            "Fitting 4 folds for each of 100 candidates, totalling 400 fits\n"
          ],
          "name": "stdout"
        },
        {
          "output_type": "stream",
          "text": [
            "[Parallel(n_jobs=4)]: Using backend LokyBackend with 4 concurrent workers.\n",
            "[Parallel(n_jobs=4)]: Done  42 tasks      | elapsed:   25.7s\n",
            "[Parallel(n_jobs=4)]: Done 192 tasks      | elapsed:  2.5min\n",
            "[Parallel(n_jobs=4)]: Done 400 out of 400 | elapsed:  7.3min finished\n"
          ],
          "name": "stderr"
        },
        {
          "output_type": "stream",
          "text": [
            "[10:03:00] WARNING: /workspace/src/objective/regression_obj.cu:152: reg:linear is now deprecated in favor of reg:squarederror.\n",
            "-0.0089423350137439\n"
          ],
          "name": "stdout"
        }
      ]
    },
    {
      "cell_type": "code",
      "metadata": {
        "colab": {
          "base_uri": "https://localhost:8080/"
        },
        "id": "YvtYA4D7WVq5",
        "outputId": "c98e37ef-6588-4d69-b0d0-b0dc3b10787b"
      },
      "source": [
        "# RandomForest 파라미터 튜닝 / 130점, 387등\n",
        "\n",
        "from sklearn.ensemble import RandomForestClassifier\n",
        "Ran = RandomForestRegressor()\n",
        "ran_params = { 'n_estimators' : [10,100],\n",
        "           'max_depth' : [8,12],\n",
        "           'min_samples_leaf' : [8,10],\n",
        "           'min_samples_split' : [8,10]\n",
        "            }\n",
        "grid_cv = GridSearchCV(Ran, param_grid = ran_params, cv = kfold, n_jobs = -1)\n",
        "grid_cv.fit(x_train_all,y_train_all)\n",
        "\n",
        "print('최적 하이퍼 파라미터: ', grid_cv.best_params_)\n",
        "print('최고 예측 정확도: {:.4f}'.format(grid_cv.best_score_))"
      ],
      "execution_count": null,
      "outputs": [
        {
          "output_type": "stream",
          "text": [
            "최적 하이퍼 파라미터:  {'max_depth': 12, 'min_samples_leaf': 8, 'min_samples_split': 10, 'n_estimators': 100}\n",
            "최고 예측 정확도: 0.9498\n"
          ],
          "name": "stdout"
        }
      ]
    },
    {
      "cell_type": "code",
      "metadata": {
        "colab": {
          "base_uri": "https://localhost:8080/"
        },
        "id": "yNSaud5tZuZ6",
        "outputId": "5a726f0e-468a-4e23-ca67-3abad1334ac8"
      },
      "source": [
        "ran_predict = grid_cv.predict(test_rbst)\n",
        "\n",
        "submission_new = pd.DataFrame({\n",
        "    \"code\" : test['단지코드'],\n",
        "    \"num\" : np.expm1(ran_predict)\n",
        "})\n",
        "\n",
        "print(submission_new.head())\n",
        "submission_new.to_csv('/content/drive/MyDrive/Colab Notebooks/주차수요 예측 AI/submission.csv')"
      ],
      "execution_count": null,
      "outputs": [
        {
          "output_type": "stream",
          "text": [
            "    code         num\n",
            "0  C1072  695.139167\n",
            "1  C1072  724.374121\n",
            "2  C1072  720.344794\n",
            "3  C1072  720.344794\n",
            "4  C1072  713.163364\n"
          ],
          "name": "stdout"
        }
      ]
    },
    {
      "cell_type": "code",
      "metadata": {
        "colab": {
          "base_uri": "https://localhost:8080/"
        },
        "id": "-XAXGSaPwah0",
        "outputId": "d5acb6d4-37e7-424c-d7b7-d6b93dbd3c7d"
      },
      "source": [
        "#LGBMClassifier 파라미터 튜닝 / 125점, 370등\n",
        "LGB = LGBMRegressor()\n",
        "lgb_param_grid = {\n",
        "    'num_leaves' : [1,5,10],\n",
        "    'learning_rate': [1,0.1,0.01,0.001],\n",
        "    'n_estimators': [50, 100, 200, 500, 1000,5000], \n",
        "    'max_depth': [15,20,25],\n",
        "    'num_leaves': [50, 100, 200],\n",
        "    'min_split_gain': [0.3, 0.4],\n",
        "}\n",
        "gsLGB = GridSearchCV(LGB,param_grid = lgb_param_grid, cv=kfold, scoring=\"neg_mean_squared_error\", n_jobs= 4, verbose = 1)\n",
        "gsLGB.fit(x_train_all,y_train_all)\n",
        "LGB_best = gsLGB.best_estimator_\n",
        "\n",
        "print('최적 하이퍼 파라미터: ', gsLGB.best_params_)\n",
        "print('최고 예측 정확도: {:.4f}'.format(gsLGB.best_score_))"
      ],
      "execution_count": null,
      "outputs": [
        {
          "output_type": "stream",
          "text": [
            "Fitting 4 folds for each of 432 candidates, totalling 1728 fits\n"
          ],
          "name": "stdout"
        },
        {
          "output_type": "stream",
          "text": [
            "[Parallel(n_jobs=4)]: Using backend LokyBackend with 4 concurrent workers.\n",
            "[Parallel(n_jobs=4)]: Done  42 tasks      | elapsed:    2.8s\n",
            "[Parallel(n_jobs=4)]: Done 192 tasks      | elapsed:   21.0s\n",
            "[Parallel(n_jobs=4)]: Done 442 tasks      | elapsed:   55.4s\n",
            "[Parallel(n_jobs=4)]: Done 792 tasks      | elapsed:  1.8min\n",
            "[Parallel(n_jobs=4)]: Done 1242 tasks      | elapsed:  4.0min\n",
            "[Parallel(n_jobs=4)]: Done 1728 out of 1728 | elapsed: 12.5min finished\n"
          ],
          "name": "stderr"
        },
        {
          "output_type": "stream",
          "text": [
            "최적 하이퍼 파라미터:  {'learning_rate': 0.001, 'max_depth': 15, 'min_split_gain': 0.3, 'n_estimators': 5000, 'num_leaves': 100}\n",
            "최고 예측 정확도: -0.0469\n"
          ],
          "name": "stdout"
        }
      ]
    },
    {
      "cell_type": "code",
      "metadata": {
        "colab": {
          "base_uri": "https://localhost:8080/"
        },
        "id": "iqna6KSnxYrU",
        "outputId": "e49c4bda-4a33-4997-c0a5-0791722729db"
      },
      "source": [
        "ran_predict = gsLGB.predict(test_rbst)\n",
        "\n",
        "submission_new = pd.DataFrame({\n",
        "    \"code\" : test['단지코드'],\n",
        "    \"num\" : np.expm1(ran_predict)\n",
        "})\n",
        "\n",
        "print(submission_new.head())\n",
        "submission_new.to_csv('/content/drive/MyDrive/Colab Notebooks/주차수요 예측 AI/submission_feed(LGBM).csv')"
      ],
      "execution_count": null,
      "outputs": [
        {
          "output_type": "stream",
          "text": [
            "    code         num\n",
            "0  C1072  673.508471\n",
            "1  C1072  702.087405\n",
            "2  C1072  691.379184\n",
            "3  C1072  691.379184\n",
            "4  C1072  691.379184\n"
          ],
          "name": "stdout"
        }
      ]
    },
    {
      "cell_type": "code",
      "metadata": {
        "id": "7a0U13mj3aty"
      },
      "source": [
        "XGB_best = gsXGB.best_estimator_\n",
        "LGB_best = gsLGB.best_estimator_\n",
        "RAN_best = grid_cv.best_estimator_"
      ],
      "execution_count": null,
      "outputs": []
    },
    {
      "cell_type": "markdown",
      "metadata": {
        "id": "ptWjB-Uixc9H"
      },
      "source": [
        "# IV. 예측 "
      ]
    },
    {
      "cell_type": "code",
      "metadata": {
        "id": "kewTL-Skfqw7"
      },
      "source": [
        "#블랜딩, 스태킹, 보팅 써보기"
      ],
      "execution_count": null,
      "outputs": []
    },
    {
      "cell_type": "markdown",
      "metadata": {
        "id": "wHCrfXGgx48A"
      },
      "source": [
        "a. 스태킹"
      ]
    },
    {
      "cell_type": "code",
      "metadata": {
        "colab": {
          "base_uri": "https://localhost:8080/"
        },
        "id": "NtC5Cd3Xx7iq",
        "outputId": "e748d0b9-e34e-4417-d8e5-a487bb34fbaa"
      },
      "source": [
        "from mlxtend.regressor import StackingRegressor\n",
        "from sklearn.linear_model import LogisticRegression\n",
        "from sklearn.utils.testing import ignore_warnings\n",
        "\n",
        "params = {'meta_regressor__C': [0.1, 1.0, 10.0, 100.0],\n",
        "          'use_features_in_secondary' : [True, False]}\n",
        "\n",
        "clf1 = XGB_best\n",
        "clf2 = LGB_best\n",
        "clf3 = RAN_best\n",
        "\n",
        "lr = LogisticRegression()\n",
        "st_re= StackingRegressor(regressors=[clf1, clf2, clf3], meta_regressor=RandomForestRegressor())\n",
        "st_mod = st_re.fit(x_train_all,y_train_all)\n",
        "st_pred = st_mod.predict(test_rbst)\n",
        "\n",
        "submission = pd.DataFrame({\n",
        "    \"code\" : test['단지코드'],\n",
        "    \"num\" : np.expm1(st_pred)\n",
        "})\n",
        "\n",
        "submission.head()\n",
        "submission.to_csv('/content/drive/MyDrive/Colab Notebooks/주차수요 예측 AI/submission.csv')"
      ],
      "execution_count": null,
      "outputs": [
        {
          "output_type": "stream",
          "text": [
            "[10:16:02] WARNING: /workspace/src/objective/regression_obj.cu:152: reg:linear is now deprecated in favor of reg:squarederror.\n"
          ],
          "name": "stdout"
        }
      ]
    },
    {
      "cell_type": "code",
      "metadata": {
        "colab": {
          "base_uri": "https://localhost:8080/"
        },
        "id": "guoNZdYD3Akb",
        "outputId": "5a9f47a1-3631-4bdf-a6a8-5b80a600d9cd"
      },
      "source": [
        "print(submission.head())\n",
        "submission.to_csv('/content/drive/MyDrive/Colab Notebooks/주차수요 예측 AI/submission.csv')"
      ],
      "execution_count": null,
      "outputs": [
        {
          "output_type": "stream",
          "text": [
            "    code         num\n",
            "0  C1072  670.619586\n",
            "1  C1072  736.236514\n",
            "2  C1072  688.642054\n",
            "3  C1072  688.431431\n",
            "4  C1072  707.385185\n"
          ],
          "name": "stdout"
        }
      ]
    }
  ]
}